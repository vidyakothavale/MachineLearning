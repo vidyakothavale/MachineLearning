{
 "cells": [
  {
   "cell_type": "markdown",
   "id": "075e608f",
   "metadata": {},
   "source": [
    "# Step 1 :Library & Data Import"
   ]
  },
  {
   "cell_type": "code",
   "execution_count": 33,
   "id": "22211d44",
   "metadata": {},
   "outputs": [],
   "source": [
    "import os\n",
    "import numpy as np\n",
    "import pandas as pd\n",
    "import numpy as np, pandas as pd\n",
    "import matplotlib.pyplot as plt\n",
    "from sklearn.neighbors import KNeighborsClassifier"
   ]
  },
  {
   "cell_type": "code",
   "execution_count": 34,
   "id": "f6d099f2",
   "metadata": {},
   "outputs": [
    {
     "data": {
      "text/html": [
       "<div>\n",
       "<style scoped>\n",
       "    .dataframe tbody tr th:only-of-type {\n",
       "        vertical-align: middle;\n",
       "    }\n",
       "\n",
       "    .dataframe tbody tr th {\n",
       "        vertical-align: top;\n",
       "    }\n",
       "\n",
       "    .dataframe thead th {\n",
       "        text-align: right;\n",
       "    }\n",
       "</style>\n",
       "<table border=\"1\" class=\"dataframe\">\n",
       "  <thead>\n",
       "    <tr style=\"text-align: right;\">\n",
       "      <th></th>\n",
       "      <th>Species</th>\n",
       "      <th>Weight</th>\n",
       "      <th>Length1</th>\n",
       "      <th>Length2</th>\n",
       "      <th>Length3</th>\n",
       "      <th>Height</th>\n",
       "      <th>Width</th>\n",
       "    </tr>\n",
       "  </thead>\n",
       "  <tbody>\n",
       "    <tr>\n",
       "      <th>0</th>\n",
       "      <td>Bream</td>\n",
       "      <td>242.0</td>\n",
       "      <td>23.2</td>\n",
       "      <td>25.4</td>\n",
       "      <td>30.0</td>\n",
       "      <td>11.5200</td>\n",
       "      <td>4.0200</td>\n",
       "    </tr>\n",
       "    <tr>\n",
       "      <th>1</th>\n",
       "      <td>Bream</td>\n",
       "      <td>290.0</td>\n",
       "      <td>24.0</td>\n",
       "      <td>26.3</td>\n",
       "      <td>31.2</td>\n",
       "      <td>12.4800</td>\n",
       "      <td>4.3056</td>\n",
       "    </tr>\n",
       "    <tr>\n",
       "      <th>2</th>\n",
       "      <td>Bream</td>\n",
       "      <td>340.0</td>\n",
       "      <td>23.9</td>\n",
       "      <td>26.5</td>\n",
       "      <td>31.1</td>\n",
       "      <td>12.3778</td>\n",
       "      <td>4.6961</td>\n",
       "    </tr>\n",
       "    <tr>\n",
       "      <th>3</th>\n",
       "      <td>Bream</td>\n",
       "      <td>363.0</td>\n",
       "      <td>26.3</td>\n",
       "      <td>29.0</td>\n",
       "      <td>33.5</td>\n",
       "      <td>12.7300</td>\n",
       "      <td>4.4555</td>\n",
       "    </tr>\n",
       "    <tr>\n",
       "      <th>4</th>\n",
       "      <td>Bream</td>\n",
       "      <td>430.0</td>\n",
       "      <td>26.5</td>\n",
       "      <td>29.0</td>\n",
       "      <td>34.0</td>\n",
       "      <td>12.4440</td>\n",
       "      <td>5.1340</td>\n",
       "    </tr>\n",
       "    <tr>\n",
       "      <th>...</th>\n",
       "      <td>...</td>\n",
       "      <td>...</td>\n",
       "      <td>...</td>\n",
       "      <td>...</td>\n",
       "      <td>...</td>\n",
       "      <td>...</td>\n",
       "      <td>...</td>\n",
       "    </tr>\n",
       "    <tr>\n",
       "      <th>154</th>\n",
       "      <td>Smelt</td>\n",
       "      <td>12.2</td>\n",
       "      <td>11.5</td>\n",
       "      <td>12.2</td>\n",
       "      <td>13.4</td>\n",
       "      <td>2.0904</td>\n",
       "      <td>1.3936</td>\n",
       "    </tr>\n",
       "    <tr>\n",
       "      <th>155</th>\n",
       "      <td>Smelt</td>\n",
       "      <td>13.4</td>\n",
       "      <td>11.7</td>\n",
       "      <td>12.4</td>\n",
       "      <td>13.5</td>\n",
       "      <td>2.4300</td>\n",
       "      <td>1.2690</td>\n",
       "    </tr>\n",
       "    <tr>\n",
       "      <th>156</th>\n",
       "      <td>Smelt</td>\n",
       "      <td>12.2</td>\n",
       "      <td>12.1</td>\n",
       "      <td>13.0</td>\n",
       "      <td>13.8</td>\n",
       "      <td>2.2770</td>\n",
       "      <td>1.2558</td>\n",
       "    </tr>\n",
       "    <tr>\n",
       "      <th>157</th>\n",
       "      <td>Smelt</td>\n",
       "      <td>19.7</td>\n",
       "      <td>13.2</td>\n",
       "      <td>14.3</td>\n",
       "      <td>15.2</td>\n",
       "      <td>2.8728</td>\n",
       "      <td>2.0672</td>\n",
       "    </tr>\n",
       "    <tr>\n",
       "      <th>158</th>\n",
       "      <td>Smelt</td>\n",
       "      <td>19.9</td>\n",
       "      <td>13.8</td>\n",
       "      <td>15.0</td>\n",
       "      <td>16.2</td>\n",
       "      <td>2.9322</td>\n",
       "      <td>1.8792</td>\n",
       "    </tr>\n",
       "  </tbody>\n",
       "</table>\n",
       "<p>159 rows × 7 columns</p>\n",
       "</div>"
      ],
      "text/plain": [
       "    Species  Weight  Length1  Length2  Length3   Height   Width\n",
       "0     Bream   242.0     23.2     25.4     30.0  11.5200  4.0200\n",
       "1     Bream   290.0     24.0     26.3     31.2  12.4800  4.3056\n",
       "2     Bream   340.0     23.9     26.5     31.1  12.3778  4.6961\n",
       "3     Bream   363.0     26.3     29.0     33.5  12.7300  4.4555\n",
       "4     Bream   430.0     26.5     29.0     34.0  12.4440  5.1340\n",
       "..      ...     ...      ...      ...      ...      ...     ...\n",
       "154   Smelt    12.2     11.5     12.2     13.4   2.0904  1.3936\n",
       "155   Smelt    13.4     11.7     12.4     13.5   2.4300  1.2690\n",
       "156   Smelt    12.2     12.1     13.0     13.8   2.2770  1.2558\n",
       "157   Smelt    19.7     13.2     14.3     15.2   2.8728  2.0672\n",
       "158   Smelt    19.9     13.8     15.0     16.2   2.9322  1.8792\n",
       "\n",
       "[159 rows x 7 columns]"
      ]
     },
     "execution_count": 34,
     "metadata": {},
     "output_type": "execute_result"
    }
   ],
   "source": [
    "data = pd.read_csv(r'Fish_dataset.csv')\n",
    "data"
   ]
  },
  {
   "cell_type": "markdown",
   "id": "ff913b68",
   "metadata": {},
   "source": [
    "#  Step 2 : Data Pre-Processing"
   ]
  },
  {
   "cell_type": "code",
   "execution_count": 35,
   "id": "adace8c6",
   "metadata": {},
   "outputs": [
    {
     "name": "stdout",
     "output_type": "stream",
     "text": [
      "<class 'pandas.core.frame.DataFrame'>\n",
      "RangeIndex: 159 entries, 0 to 158\n",
      "Data columns (total 7 columns):\n",
      " #   Column   Non-Null Count  Dtype  \n",
      "---  ------   --------------  -----  \n",
      " 0   Species  159 non-null    object \n",
      " 1   Weight   159 non-null    float64\n",
      " 2   Length1  159 non-null    float64\n",
      " 3   Length2  159 non-null    float64\n",
      " 4   Length3  159 non-null    float64\n",
      " 5   Height   159 non-null    float64\n",
      " 6   Width    159 non-null    float64\n",
      "dtypes: float64(6), object(1)\n",
      "memory usage: 8.8+ KB\n"
     ]
    }
   ],
   "source": [
    "data.info()"
   ]
  },
  {
   "cell_type": "markdown",
   "id": "49cdecc3",
   "metadata": {},
   "source": [
    "# Step 3 : Data Partition"
   ]
  },
  {
   "cell_type": "code",
   "execution_count": 36,
   "id": "9b64a815",
   "metadata": {},
   "outputs": [],
   "source": [
    "#Dividing data into train and test dataset\n",
    "from sklearn.model_selection import train_test_split\n",
    "#from random import seed\n",
    "\n",
    "#seed(20)\n",
    "train_x = data.drop(['Species'],axis=1)\n",
    "train_y = data['Species']\n",
    "\n",
    "# Train test split\n",
    "\n",
    "X_train, X_test, y_train, y_test = train_test_split(train_x, train_y, test_size=0.3,random_state=20)"
   ]
  },
  {
   "cell_type": "code",
   "execution_count": 37,
   "id": "a0d394c9",
   "metadata": {},
   "outputs": [
    {
     "data": {
      "text/html": [
       "<div>\n",
       "<style scoped>\n",
       "    .dataframe tbody tr th:only-of-type {\n",
       "        vertical-align: middle;\n",
       "    }\n",
       "\n",
       "    .dataframe tbody tr th {\n",
       "        vertical-align: top;\n",
       "    }\n",
       "\n",
       "    .dataframe thead th {\n",
       "        text-align: right;\n",
       "    }\n",
       "</style>\n",
       "<table border=\"1\" class=\"dataframe\">\n",
       "  <thead>\n",
       "    <tr style=\"text-align: right;\">\n",
       "      <th></th>\n",
       "      <th>Weight</th>\n",
       "      <th>Length1</th>\n",
       "      <th>Length2</th>\n",
       "      <th>Length3</th>\n",
       "      <th>Height</th>\n",
       "      <th>Width</th>\n",
       "    </tr>\n",
       "  </thead>\n",
       "  <tbody>\n",
       "    <tr>\n",
       "      <th>140</th>\n",
       "      <td>950.0</td>\n",
       "      <td>48.3</td>\n",
       "      <td>51.7</td>\n",
       "      <td>55.1</td>\n",
       "      <td>8.9262</td>\n",
       "      <td>6.1712</td>\n",
       "    </tr>\n",
       "    <tr>\n",
       "      <th>37</th>\n",
       "      <td>78.0</td>\n",
       "      <td>17.5</td>\n",
       "      <td>18.8</td>\n",
       "      <td>21.2</td>\n",
       "      <td>5.5756</td>\n",
       "      <td>2.9044</td>\n",
       "    </tr>\n",
       "    <tr>\n",
       "      <th>65</th>\n",
       "      <td>150.0</td>\n",
       "      <td>18.4</td>\n",
       "      <td>20.0</td>\n",
       "      <td>22.4</td>\n",
       "      <td>8.8928</td>\n",
       "      <td>3.2928</td>\n",
       "    </tr>\n",
       "    <tr>\n",
       "      <th>72</th>\n",
       "      <td>5.9</td>\n",
       "      <td>7.5</td>\n",
       "      <td>8.4</td>\n",
       "      <td>8.8</td>\n",
       "      <td>2.1120</td>\n",
       "      <td>1.4080</td>\n",
       "    </tr>\n",
       "    <tr>\n",
       "      <th>2</th>\n",
       "      <td>340.0</td>\n",
       "      <td>23.9</td>\n",
       "      <td>26.5</td>\n",
       "      <td>31.1</td>\n",
       "      <td>12.3778</td>\n",
       "      <td>4.6961</td>\n",
       "    </tr>\n",
       "  </tbody>\n",
       "</table>\n",
       "</div>"
      ],
      "text/plain": [
       "     Weight  Length1  Length2  Length3   Height   Width\n",
       "140   950.0     48.3     51.7     55.1   8.9262  6.1712\n",
       "37     78.0     17.5     18.8     21.2   5.5756  2.9044\n",
       "65    150.0     18.4     20.0     22.4   8.8928  3.2928\n",
       "72      5.9      7.5      8.4      8.8   2.1120  1.4080\n",
       "2     340.0     23.9     26.5     31.1  12.3778  4.6961"
      ]
     },
     "execution_count": 37,
     "metadata": {},
     "output_type": "execute_result"
    }
   ],
   "source": [
    "X_train.head()"
   ]
  },
  {
   "cell_type": "markdown",
   "id": "c0dd9921",
   "metadata": {},
   "source": [
    "#  Step 4 : Scaling Data"
   ]
  },
  {
   "cell_type": "code",
   "execution_count": 38,
   "id": "e5b28d00",
   "metadata": {},
   "outputs": [],
   "source": [
    "from sklearn.preprocessing import StandardScaler ,minmax_scale\n",
    "scaler = StandardScaler()   # converting data into Z-scale = X-mean / Standard Deviation\n",
    "#scaler.fit(X_train)         # Mean = 0 & standard Deviation =1\n",
    "\n",
    "X_train = scaler.fit_transform(X_train)\n",
    "X_test = scaler.transform(X_test)"
   ]
  },
  {
   "cell_type": "code",
   "execution_count": 39,
   "id": "40661d59",
   "metadata": {},
   "outputs": [
    {
     "data": {
      "text/plain": [
       "array([[ 1.51367367e+00,  2.18165034e+00,  2.14370121e+00,\n",
       "         2.01357047e+00, -2.28658608e-02,  1.03179267e+00],\n",
       "       [-8.90499285e-01, -8.37425226e-01, -8.57595544e-01,\n",
       "        -8.28464159e-01, -7.68886985e-01, -8.57646248e-01],\n",
       "       [-6.91989591e-01, -7.49205485e-01, -7.48125753e-01,\n",
       "        -7.27861164e-01, -3.03024708e-02, -6.33004985e-01],\n",
       "       [-1.08928469e+00, -1.81764457e+00, -1.80633373e+00,\n",
       "        -1.86802845e+00, -1.54006790e+00, -1.72312819e+00],\n",
       "       [-1.68144566e-01, -2.10084848e-01, -1.55164388e-01,\n",
       "         1.51055549e-03,  7.45643216e-01,  1.78630144e-01]])"
      ]
     },
     "execution_count": 39,
     "metadata": {},
     "output_type": "execute_result"
    }
   ],
   "source": [
    "X_train[0:5]"
   ]
  },
  {
   "cell_type": "code",
   "execution_count": 40,
   "id": "3d647836",
   "metadata": {},
   "outputs": [
    {
     "data": {
      "text/plain": [
       "array([-7.10142655e-17, -3.12562788e-16, -4.95099457e-17,  5.32106891e-16,\n",
       "       -2.65053245e-16,  8.65173798e-17])"
      ]
     },
     "execution_count": 40,
     "metadata": {},
     "output_type": "execute_result"
    }
   ],
   "source": [
    "X_train.mean(axis=0)"
   ]
  },
  {
   "cell_type": "code",
   "execution_count": 41,
   "id": "582d2bee",
   "metadata": {},
   "outputs": [
    {
     "data": {
      "text/plain": [
       "array([1., 1., 1., 1., 1., 1.])"
      ]
     },
     "execution_count": 41,
     "metadata": {},
     "output_type": "execute_result"
    }
   ],
   "source": [
    " X_train.std(axis=0)"
   ]
  },
  {
   "cell_type": "markdown",
   "id": "33b4c642",
   "metadata": {},
   "source": [
    "# Step 5 : Model Building "
   ]
  },
  {
   "cell_type": "code",
   "execution_count": 42,
   "id": "5984986c",
   "metadata": {},
   "outputs": [
    {
     "data": {
      "text/plain": [
       "KNeighborsClassifier(n_neighbors=6)"
      ]
     },
     "execution_count": 42,
     "metadata": {},
     "output_type": "execute_result"
    }
   ],
   "source": [
    "# train the decision tree\n",
    "## Instantiate the model with 5 neighbors. \n",
    "model = KNeighborsClassifier(n_neighbors=6)\n",
    "## Fit the model on the training data.\n",
    "model.fit(X_train, y_train)"
   ]
  },
  {
   "cell_type": "markdown",
   "id": "1f1eab0f",
   "metadata": {},
   "source": [
    "# Step 6 : Predictions on Train Dataset\n"
   ]
  },
  {
   "cell_type": "code",
   "execution_count": 43,
   "id": "adfa1902",
   "metadata": {},
   "outputs": [
    {
     "data": {
      "text/html": [
       "<div>\n",
       "<style scoped>\n",
       "    .dataframe tbody tr th:only-of-type {\n",
       "        vertical-align: middle;\n",
       "    }\n",
       "\n",
       "    .dataframe tbody tr th {\n",
       "        vertical-align: top;\n",
       "    }\n",
       "\n",
       "    .dataframe thead th {\n",
       "        text-align: right;\n",
       "    }\n",
       "</style>\n",
       "<table border=\"1\" class=\"dataframe\">\n",
       "  <thead>\n",
       "    <tr style=\"text-align: right;\">\n",
       "      <th></th>\n",
       "      <th>Weight</th>\n",
       "      <th>Length1</th>\n",
       "      <th>Length2</th>\n",
       "      <th>Length3</th>\n",
       "      <th>Height</th>\n",
       "      <th>Width</th>\n",
       "    </tr>\n",
       "  </thead>\n",
       "  <tbody>\n",
       "    <tr>\n",
       "      <th>0</th>\n",
       "      <td>1.513674</td>\n",
       "      <td>2.181650</td>\n",
       "      <td>2.143701</td>\n",
       "      <td>2.013570</td>\n",
       "      <td>-0.022866</td>\n",
       "      <td>1.031793</td>\n",
       "    </tr>\n",
       "    <tr>\n",
       "      <th>1</th>\n",
       "      <td>-0.890499</td>\n",
       "      <td>-0.837425</td>\n",
       "      <td>-0.857596</td>\n",
       "      <td>-0.828464</td>\n",
       "      <td>-0.768887</td>\n",
       "      <td>-0.857646</td>\n",
       "    </tr>\n",
       "    <tr>\n",
       "      <th>2</th>\n",
       "      <td>-0.691990</td>\n",
       "      <td>-0.749205</td>\n",
       "      <td>-0.748126</td>\n",
       "      <td>-0.727861</td>\n",
       "      <td>-0.030302</td>\n",
       "      <td>-0.633005</td>\n",
       "    </tr>\n",
       "    <tr>\n",
       "      <th>3</th>\n",
       "      <td>-1.089285</td>\n",
       "      <td>-1.817645</td>\n",
       "      <td>-1.806334</td>\n",
       "      <td>-1.868028</td>\n",
       "      <td>-1.540068</td>\n",
       "      <td>-1.723128</td>\n",
       "    </tr>\n",
       "    <tr>\n",
       "      <th>4</th>\n",
       "      <td>-0.168145</td>\n",
       "      <td>-0.210085</td>\n",
       "      <td>-0.155164</td>\n",
       "      <td>0.001511</td>\n",
       "      <td>0.745643</td>\n",
       "      <td>0.178630</td>\n",
       "    </tr>\n",
       "  </tbody>\n",
       "</table>\n",
       "</div>"
      ],
      "text/plain": [
       "     Weight   Length1   Length2   Length3    Height     Width\n",
       "0  1.513674  2.181650  2.143701  2.013570 -0.022866  1.031793\n",
       "1 -0.890499 -0.837425 -0.857596 -0.828464 -0.768887 -0.857646\n",
       "2 -0.691990 -0.749205 -0.748126 -0.727861 -0.030302 -0.633005\n",
       "3 -1.089285 -1.817645 -1.806334 -1.868028 -1.540068 -1.723128\n",
       "4 -0.168145 -0.210085 -0.155164  0.001511  0.745643  0.178630"
      ]
     },
     "execution_count": 43,
     "metadata": {},
     "output_type": "execute_result"
    }
   ],
   "source": [
    "X_train=pd.DataFrame(X_train,columns=['Weight','Length1','Length2','Length3','Height','Width'])\n",
    "X_train.head()"
   ]
  },
  {
   "cell_type": "code",
   "execution_count": 44,
   "id": "a473f818",
   "metadata": {},
   "outputs": [],
   "source": [
    "y_train.reset_index(drop=True, inplace=True)"
   ]
  },
  {
   "cell_type": "code",
   "execution_count": 45,
   "id": "9e0daefb",
   "metadata": {},
   "outputs": [
    {
     "data": {
      "text/html": [
       "<div>\n",
       "<style scoped>\n",
       "    .dataframe tbody tr th:only-of-type {\n",
       "        vertical-align: middle;\n",
       "    }\n",
       "\n",
       "    .dataframe tbody tr th {\n",
       "        vertical-align: top;\n",
       "    }\n",
       "\n",
       "    .dataframe thead th {\n",
       "        text-align: right;\n",
       "    }\n",
       "</style>\n",
       "<table border=\"1\" class=\"dataframe\">\n",
       "  <thead>\n",
       "    <tr style=\"text-align: right;\">\n",
       "      <th></th>\n",
       "      <th>Weight</th>\n",
       "      <th>Length1</th>\n",
       "      <th>Length2</th>\n",
       "      <th>Length3</th>\n",
       "      <th>Height</th>\n",
       "      <th>Width</th>\n",
       "      <th>Species</th>\n",
       "    </tr>\n",
       "  </thead>\n",
       "  <tbody>\n",
       "    <tr>\n",
       "      <th>0</th>\n",
       "      <td>1.513674</td>\n",
       "      <td>2.181650</td>\n",
       "      <td>2.143701</td>\n",
       "      <td>2.013570</td>\n",
       "      <td>-0.022866</td>\n",
       "      <td>1.031793</td>\n",
       "      <td>Pike</td>\n",
       "    </tr>\n",
       "    <tr>\n",
       "      <th>1</th>\n",
       "      <td>-0.890499</td>\n",
       "      <td>-0.837425</td>\n",
       "      <td>-0.857596</td>\n",
       "      <td>-0.828464</td>\n",
       "      <td>-0.768887</td>\n",
       "      <td>-0.857646</td>\n",
       "      <td>Roach</td>\n",
       "    </tr>\n",
       "    <tr>\n",
       "      <th>2</th>\n",
       "      <td>-0.691990</td>\n",
       "      <td>-0.749205</td>\n",
       "      <td>-0.748126</td>\n",
       "      <td>-0.727861</td>\n",
       "      <td>-0.030302</td>\n",
       "      <td>-0.633005</td>\n",
       "      <td>Parkki</td>\n",
       "    </tr>\n",
       "    <tr>\n",
       "      <th>3</th>\n",
       "      <td>-1.089285</td>\n",
       "      <td>-1.817645</td>\n",
       "      <td>-1.806334</td>\n",
       "      <td>-1.868028</td>\n",
       "      <td>-1.540068</td>\n",
       "      <td>-1.723128</td>\n",
       "      <td>Perch</td>\n",
       "    </tr>\n",
       "    <tr>\n",
       "      <th>4</th>\n",
       "      <td>-0.168145</td>\n",
       "      <td>-0.210085</td>\n",
       "      <td>-0.155164</td>\n",
       "      <td>0.001511</td>\n",
       "      <td>0.745643</td>\n",
       "      <td>0.178630</td>\n",
       "      <td>Bream</td>\n",
       "    </tr>\n",
       "  </tbody>\n",
       "</table>\n",
       "</div>"
      ],
      "text/plain": [
       "     Weight   Length1   Length2   Length3    Height     Width Species\n",
       "0  1.513674  2.181650  2.143701  2.013570 -0.022866  1.031793    Pike\n",
       "1 -0.890499 -0.837425 -0.857596 -0.828464 -0.768887 -0.857646   Roach\n",
       "2 -0.691990 -0.749205 -0.748126 -0.727861 -0.030302 -0.633005  Parkki\n",
       "3 -1.089285 -1.817645 -1.806334 -1.868028 -1.540068 -1.723128   Perch\n",
       "4 -0.168145 -0.210085 -0.155164  0.001511  0.745643  0.178630   Bream"
      ]
     },
     "execution_count": 45,
     "metadata": {},
     "output_type": "execute_result"
    }
   ],
   "source": [
    "train=pd.concat([X_train,y_train],axis=1)\n",
    "train.head()"
   ]
  },
  {
   "cell_type": "code",
   "execution_count": 46,
   "id": "eae5be20",
   "metadata": {},
   "outputs": [
    {
     "name": "stderr",
     "output_type": "stream",
     "text": [
      "C:\\Users\\L\\anaconda3\\lib\\site-packages\\sklearn\\base.py:443: UserWarning: X has feature names, but KNeighborsClassifier was fitted without feature names\n",
      "  warnings.warn(\n"
     ]
    },
    {
     "data": {
      "text/html": [
       "<div>\n",
       "<style scoped>\n",
       "    .dataframe tbody tr th:only-of-type {\n",
       "        vertical-align: middle;\n",
       "    }\n",
       "\n",
       "    .dataframe tbody tr th {\n",
       "        vertical-align: top;\n",
       "    }\n",
       "\n",
       "    .dataframe thead th {\n",
       "        text-align: right;\n",
       "    }\n",
       "</style>\n",
       "<table border=\"1\" class=\"dataframe\">\n",
       "  <thead>\n",
       "    <tr style=\"text-align: right;\">\n",
       "      <th></th>\n",
       "      <th>Weight</th>\n",
       "      <th>Length1</th>\n",
       "      <th>Length2</th>\n",
       "      <th>Length3</th>\n",
       "      <th>Height</th>\n",
       "      <th>Width</th>\n",
       "      <th>Species</th>\n",
       "      <th>Predicted</th>\n",
       "    </tr>\n",
       "  </thead>\n",
       "  <tbody>\n",
       "    <tr>\n",
       "      <th>0</th>\n",
       "      <td>1.513674</td>\n",
       "      <td>2.181650</td>\n",
       "      <td>2.143701</td>\n",
       "      <td>2.013570</td>\n",
       "      <td>-0.022866</td>\n",
       "      <td>1.031793</td>\n",
       "      <td>Pike</td>\n",
       "      <td>Pike</td>\n",
       "    </tr>\n",
       "    <tr>\n",
       "      <th>1</th>\n",
       "      <td>-0.890499</td>\n",
       "      <td>-0.837425</td>\n",
       "      <td>-0.857596</td>\n",
       "      <td>-0.828464</td>\n",
       "      <td>-0.768887</td>\n",
       "      <td>-0.857646</td>\n",
       "      <td>Roach</td>\n",
       "      <td>Perch</td>\n",
       "    </tr>\n",
       "    <tr>\n",
       "      <th>2</th>\n",
       "      <td>-0.691990</td>\n",
       "      <td>-0.749205</td>\n",
       "      <td>-0.748126</td>\n",
       "      <td>-0.727861</td>\n",
       "      <td>-0.030302</td>\n",
       "      <td>-0.633005</td>\n",
       "      <td>Parkki</td>\n",
       "      <td>Parkki</td>\n",
       "    </tr>\n",
       "    <tr>\n",
       "      <th>3</th>\n",
       "      <td>-1.089285</td>\n",
       "      <td>-1.817645</td>\n",
       "      <td>-1.806334</td>\n",
       "      <td>-1.868028</td>\n",
       "      <td>-1.540068</td>\n",
       "      <td>-1.723128</td>\n",
       "      <td>Perch</td>\n",
       "      <td>Smelt</td>\n",
       "    </tr>\n",
       "    <tr>\n",
       "      <th>4</th>\n",
       "      <td>-0.168145</td>\n",
       "      <td>-0.210085</td>\n",
       "      <td>-0.155164</td>\n",
       "      <td>0.001511</td>\n",
       "      <td>0.745643</td>\n",
       "      <td>0.178630</td>\n",
       "      <td>Bream</td>\n",
       "      <td>Bream</td>\n",
       "    </tr>\n",
       "  </tbody>\n",
       "</table>\n",
       "</div>"
      ],
      "text/plain": [
       "     Weight   Length1   Length2   Length3    Height     Width Species  \\\n",
       "0  1.513674  2.181650  2.143701  2.013570 -0.022866  1.031793    Pike   \n",
       "1 -0.890499 -0.837425 -0.857596 -0.828464 -0.768887 -0.857646   Roach   \n",
       "2 -0.691990 -0.749205 -0.748126 -0.727861 -0.030302 -0.633005  Parkki   \n",
       "3 -1.089285 -1.817645 -1.806334 -1.868028 -1.540068 -1.723128   Perch   \n",
       "4 -0.168145 -0.210085 -0.155164  0.001511  0.745643  0.178630   Bream   \n",
       "\n",
       "  Predicted  \n",
       "0      Pike  \n",
       "1     Perch  \n",
       "2    Parkki  \n",
       "3     Smelt  \n",
       "4     Bream  "
      ]
     },
     "execution_count": 46,
     "metadata": {},
     "output_type": "execute_result"
    }
   ],
   "source": [
    "train['Predicted']=model.predict(X_train)\n",
    "train.head()"
   ]
  },
  {
   "cell_type": "markdown",
   "id": "15fe991f",
   "metadata": {},
   "source": [
    "# Step 7 : Model Performance Metrics"
   ]
  },
  {
   "cell_type": "code",
   "execution_count": 47,
   "id": "420f91d1",
   "metadata": {},
   "outputs": [
    {
     "name": "stdout",
     "output_type": "stream",
     "text": [
      "[[26  0  0  0  0  0  0]\n",
      " [ 0  8  0  0  0  0  0]\n",
      " [ 0  0 32  0  1  1  0]\n",
      " [ 0  0  1 11  0  0  0]\n",
      " [ 1  0  9  0  5  0  0]\n",
      " [ 0  0  0  0  0 12  0]\n",
      " [ 0  0  4  0  0  0  0]]\n"
     ]
    }
   ],
   "source": [
    "from sklearn.metrics import confusion_matrix\n",
    "confusion_matrix = confusion_matrix(train['Species'],train['Predicted'])\n",
    "print(confusion_matrix)"
   ]
  },
  {
   "cell_type": "code",
   "execution_count": 48,
   "id": "393027bb",
   "metadata": {},
   "outputs": [
    {
     "name": "stdout",
     "output_type": "stream",
     "text": [
      "84.68468468468468\n"
     ]
    }
   ],
   "source": [
    "Accuracy_Train=((26+8+32+11+5+12)/(111)*100)\n",
    "print(Accuracy_Train)"
   ]
  },
  {
   "cell_type": "code",
   "execution_count": 49,
   "id": "b47e2e4e",
   "metadata": {},
   "outputs": [
    {
     "name": "stdout",
     "output_type": "stream",
     "text": [
      "              precision    recall  f1-score   support\n",
      "\n",
      "       Bream       0.96      1.00      0.98        26\n",
      "      Parkki       1.00      1.00      1.00         8\n",
      "       Perch       0.70      0.94      0.80        34\n",
      "        Pike       1.00      0.92      0.96        12\n",
      "       Roach       0.83      0.33      0.48        15\n",
      "       Smelt       0.92      1.00      0.96        12\n",
      "   Whitefish       0.00      0.00      0.00         4\n",
      "\n",
      "    accuracy                           0.85       111\n",
      "   macro avg       0.77      0.74      0.74       111\n",
      "weighted avg       0.83      0.85      0.82       111\n",
      "\n"
     ]
    },
    {
     "name": "stderr",
     "output_type": "stream",
     "text": [
      "C:\\Users\\L\\anaconda3\\lib\\site-packages\\sklearn\\metrics\\_classification.py:1318: UndefinedMetricWarning: Precision and F-score are ill-defined and being set to 0.0 in labels with no predicted samples. Use `zero_division` parameter to control this behavior.\n",
      "  _warn_prf(average, modifier, msg_start, len(result))\n",
      "C:\\Users\\L\\anaconda3\\lib\\site-packages\\sklearn\\metrics\\_classification.py:1318: UndefinedMetricWarning: Precision and F-score are ill-defined and being set to 0.0 in labels with no predicted samples. Use `zero_division` parameter to control this behavior.\n",
      "  _warn_prf(average, modifier, msg_start, len(result))\n",
      "C:\\Users\\L\\anaconda3\\lib\\site-packages\\sklearn\\metrics\\_classification.py:1318: UndefinedMetricWarning: Precision and F-score are ill-defined and being set to 0.0 in labels with no predicted samples. Use `zero_division` parameter to control this behavior.\n",
      "  _warn_prf(average, modifier, msg_start, len(result))\n"
     ]
    }
   ],
   "source": [
    "from sklearn.metrics import classification_report\n",
    "print(classification_report(train['Species'], train['Predicted']))"
   ]
  },
  {
   "cell_type": "markdown",
   "id": "3a6716bb",
   "metadata": {},
   "source": [
    "# Step 8 : Predictions on Test Dataset"
   ]
  },
  {
   "cell_type": "code",
   "execution_count": 50,
   "id": "161f60fb",
   "metadata": {},
   "outputs": [
    {
     "data": {
      "text/html": [
       "<div>\n",
       "<style scoped>\n",
       "    .dataframe tbody tr th:only-of-type {\n",
       "        vertical-align: middle;\n",
       "    }\n",
       "\n",
       "    .dataframe tbody tr th {\n",
       "        vertical-align: top;\n",
       "    }\n",
       "\n",
       "    .dataframe thead th {\n",
       "        text-align: right;\n",
       "    }\n",
       "</style>\n",
       "<table border=\"1\" class=\"dataframe\">\n",
       "  <thead>\n",
       "    <tr style=\"text-align: right;\">\n",
       "      <th></th>\n",
       "      <th>Weight</th>\n",
       "      <th>Length1</th>\n",
       "      <th>Length2</th>\n",
       "      <th>Length3</th>\n",
       "      <th>Height</th>\n",
       "      <th>Width</th>\n",
       "    </tr>\n",
       "  </thead>\n",
       "  <tbody>\n",
       "    <tr>\n",
       "      <th>0</th>\n",
       "      <td>-1.086252</td>\n",
       "      <td>-1.562788</td>\n",
       "      <td>-1.605639</td>\n",
       "      <td>-1.633288</td>\n",
       "      <td>-1.625478</td>\n",
       "      <td>-1.873275</td>\n",
       "    </tr>\n",
       "    <tr>\n",
       "      <th>1</th>\n",
       "      <td>-0.261885</td>\n",
       "      <td>-0.043448</td>\n",
       "      <td>-0.018327</td>\n",
       "      <td>-0.023640</td>\n",
       "      <td>-0.055863</td>\n",
       "      <td>0.170244</td>\n",
       "    </tr>\n",
       "    <tr>\n",
       "      <th>2</th>\n",
       "      <td>-0.587221</td>\n",
       "      <td>-0.337513</td>\n",
       "      <td>-0.328492</td>\n",
       "      <td>-0.409285</td>\n",
       "      <td>-0.511099</td>\n",
       "      <td>-0.128083</td>\n",
       "    </tr>\n",
       "    <tr>\n",
       "      <th>3</th>\n",
       "      <td>-0.747131</td>\n",
       "      <td>-0.592370</td>\n",
       "      <td>-0.565676</td>\n",
       "      <td>-0.635642</td>\n",
       "      <td>-0.649901</td>\n",
       "      <td>-0.498706</td>\n",
       "    </tr>\n",
       "    <tr>\n",
       "      <th>4</th>\n",
       "      <td>0.300559</td>\n",
       "      <td>1.368068</td>\n",
       "      <td>1.304433</td>\n",
       "      <td>1.208747</td>\n",
       "      <td>-0.490704</td>\n",
       "      <td>0.041497</td>\n",
       "    </tr>\n",
       "  </tbody>\n",
       "</table>\n",
       "</div>"
      ],
      "text/plain": [
       "     Weight   Length1   Length2   Length3    Height     Width\n",
       "0 -1.086252 -1.562788 -1.605639 -1.633288 -1.625478 -1.873275\n",
       "1 -0.261885 -0.043448 -0.018327 -0.023640 -0.055863  0.170244\n",
       "2 -0.587221 -0.337513 -0.328492 -0.409285 -0.511099 -0.128083\n",
       "3 -0.747131 -0.592370 -0.565676 -0.635642 -0.649901 -0.498706\n",
       "4  0.300559  1.368068  1.304433  1.208747 -0.490704  0.041497"
      ]
     },
     "execution_count": 50,
     "metadata": {},
     "output_type": "execute_result"
    }
   ],
   "source": [
    "\n",
    "\n",
    "X_test=pd.DataFrame(X_test,columns=['Weight','Length1','Length2','Length3','Height','Width'])\n",
    "X_test.head()"
   ]
  },
  {
   "cell_type": "code",
   "execution_count": 51,
   "id": "c8058718",
   "metadata": {},
   "outputs": [],
   "source": [
    "y_test.reset_index(drop=True, inplace=True)"
   ]
  },
  {
   "cell_type": "code",
   "execution_count": 52,
   "id": "1d69357d",
   "metadata": {},
   "outputs": [
    {
     "data": {
      "text/html": [
       "<div>\n",
       "<style scoped>\n",
       "    .dataframe tbody tr th:only-of-type {\n",
       "        vertical-align: middle;\n",
       "    }\n",
       "\n",
       "    .dataframe tbody tr th {\n",
       "        vertical-align: top;\n",
       "    }\n",
       "\n",
       "    .dataframe thead th {\n",
       "        text-align: right;\n",
       "    }\n",
       "</style>\n",
       "<table border=\"1\" class=\"dataframe\">\n",
       "  <thead>\n",
       "    <tr style=\"text-align: right;\">\n",
       "      <th></th>\n",
       "      <th>Weight</th>\n",
       "      <th>Length1</th>\n",
       "      <th>Length2</th>\n",
       "      <th>Length3</th>\n",
       "      <th>Height</th>\n",
       "      <th>Width</th>\n",
       "      <th>Species</th>\n",
       "    </tr>\n",
       "  </thead>\n",
       "  <tbody>\n",
       "    <tr>\n",
       "      <th>0</th>\n",
       "      <td>-1.086252</td>\n",
       "      <td>-1.562788</td>\n",
       "      <td>-1.605639</td>\n",
       "      <td>-1.633288</td>\n",
       "      <td>-1.625478</td>\n",
       "      <td>-1.873275</td>\n",
       "      <td>Smelt</td>\n",
       "    </tr>\n",
       "    <tr>\n",
       "      <th>1</th>\n",
       "      <td>-0.261885</td>\n",
       "      <td>-0.043448</td>\n",
       "      <td>-0.018327</td>\n",
       "      <td>-0.023640</td>\n",
       "      <td>-0.055863</td>\n",
       "      <td>0.170244</td>\n",
       "      <td>Whitefish</td>\n",
       "    </tr>\n",
       "    <tr>\n",
       "      <th>2</th>\n",
       "      <td>-0.587221</td>\n",
       "      <td>-0.337513</td>\n",
       "      <td>-0.328492</td>\n",
       "      <td>-0.409285</td>\n",
       "      <td>-0.511099</td>\n",
       "      <td>-0.128083</td>\n",
       "      <td>Perch</td>\n",
       "    </tr>\n",
       "    <tr>\n",
       "      <th>3</th>\n",
       "      <td>-0.747131</td>\n",
       "      <td>-0.592370</td>\n",
       "      <td>-0.565676</td>\n",
       "      <td>-0.635642</td>\n",
       "      <td>-0.649901</td>\n",
       "      <td>-0.498706</td>\n",
       "      <td>Perch</td>\n",
       "    </tr>\n",
       "    <tr>\n",
       "      <th>4</th>\n",
       "      <td>0.300559</td>\n",
       "      <td>1.368068</td>\n",
       "      <td>1.304433</td>\n",
       "      <td>1.208747</td>\n",
       "      <td>-0.490704</td>\n",
       "      <td>0.041497</td>\n",
       "      <td>Pike</td>\n",
       "    </tr>\n",
       "  </tbody>\n",
       "</table>\n",
       "</div>"
      ],
      "text/plain": [
       "     Weight   Length1   Length2   Length3    Height     Width    Species\n",
       "0 -1.086252 -1.562788 -1.605639 -1.633288 -1.625478 -1.873275      Smelt\n",
       "1 -0.261885 -0.043448 -0.018327 -0.023640 -0.055863  0.170244  Whitefish\n",
       "2 -0.587221 -0.337513 -0.328492 -0.409285 -0.511099 -0.128083      Perch\n",
       "3 -0.747131 -0.592370 -0.565676 -0.635642 -0.649901 -0.498706      Perch\n",
       "4  0.300559  1.368068  1.304433  1.208747 -0.490704  0.041497       Pike"
      ]
     },
     "execution_count": 52,
     "metadata": {},
     "output_type": "execute_result"
    }
   ],
   "source": [
    "test=pd.concat([X_test,y_test],axis=1)\n",
    "test.head()"
   ]
  },
  {
   "cell_type": "code",
   "execution_count": 53,
   "id": "62843c52",
   "metadata": {},
   "outputs": [
    {
     "name": "stderr",
     "output_type": "stream",
     "text": [
      "C:\\Users\\L\\anaconda3\\lib\\site-packages\\sklearn\\base.py:443: UserWarning: X has feature names, but KNeighborsClassifier was fitted without feature names\n",
      "  warnings.warn(\n"
     ]
    },
    {
     "data": {
      "text/html": [
       "<div>\n",
       "<style scoped>\n",
       "    .dataframe tbody tr th:only-of-type {\n",
       "        vertical-align: middle;\n",
       "    }\n",
       "\n",
       "    .dataframe tbody tr th {\n",
       "        vertical-align: top;\n",
       "    }\n",
       "\n",
       "    .dataframe thead th {\n",
       "        text-align: right;\n",
       "    }\n",
       "</style>\n",
       "<table border=\"1\" class=\"dataframe\">\n",
       "  <thead>\n",
       "    <tr style=\"text-align: right;\">\n",
       "      <th></th>\n",
       "      <th>Weight</th>\n",
       "      <th>Length1</th>\n",
       "      <th>Length2</th>\n",
       "      <th>Length3</th>\n",
       "      <th>Height</th>\n",
       "      <th>Width</th>\n",
       "      <th>Species</th>\n",
       "      <th>Predicted</th>\n",
       "    </tr>\n",
       "  </thead>\n",
       "  <tbody>\n",
       "    <tr>\n",
       "      <th>0</th>\n",
       "      <td>-1.086252</td>\n",
       "      <td>-1.562788</td>\n",
       "      <td>-1.605639</td>\n",
       "      <td>-1.633288</td>\n",
       "      <td>-1.625478</td>\n",
       "      <td>-1.873275</td>\n",
       "      <td>Smelt</td>\n",
       "      <td>Smelt</td>\n",
       "    </tr>\n",
       "    <tr>\n",
       "      <th>1</th>\n",
       "      <td>-0.261885</td>\n",
       "      <td>-0.043448</td>\n",
       "      <td>-0.018327</td>\n",
       "      <td>-0.023640</td>\n",
       "      <td>-0.055863</td>\n",
       "      <td>0.170244</td>\n",
       "      <td>Whitefish</td>\n",
       "      <td>Perch</td>\n",
       "    </tr>\n",
       "    <tr>\n",
       "      <th>2</th>\n",
       "      <td>-0.587221</td>\n",
       "      <td>-0.337513</td>\n",
       "      <td>-0.328492</td>\n",
       "      <td>-0.409285</td>\n",
       "      <td>-0.511099</td>\n",
       "      <td>-0.128083</td>\n",
       "      <td>Perch</td>\n",
       "      <td>Perch</td>\n",
       "    </tr>\n",
       "    <tr>\n",
       "      <th>3</th>\n",
       "      <td>-0.747131</td>\n",
       "      <td>-0.592370</td>\n",
       "      <td>-0.565676</td>\n",
       "      <td>-0.635642</td>\n",
       "      <td>-0.649901</td>\n",
       "      <td>-0.498706</td>\n",
       "      <td>Perch</td>\n",
       "      <td>Perch</td>\n",
       "    </tr>\n",
       "    <tr>\n",
       "      <th>4</th>\n",
       "      <td>0.300559</td>\n",
       "      <td>1.368068</td>\n",
       "      <td>1.304433</td>\n",
       "      <td>1.208747</td>\n",
       "      <td>-0.490704</td>\n",
       "      <td>0.041497</td>\n",
       "      <td>Pike</td>\n",
       "      <td>Pike</td>\n",
       "    </tr>\n",
       "  </tbody>\n",
       "</table>\n",
       "</div>"
      ],
      "text/plain": [
       "     Weight   Length1   Length2   Length3    Height     Width    Species  \\\n",
       "0 -1.086252 -1.562788 -1.605639 -1.633288 -1.625478 -1.873275      Smelt   \n",
       "1 -0.261885 -0.043448 -0.018327 -0.023640 -0.055863  0.170244  Whitefish   \n",
       "2 -0.587221 -0.337513 -0.328492 -0.409285 -0.511099 -0.128083      Perch   \n",
       "3 -0.747131 -0.592370 -0.565676 -0.635642 -0.649901 -0.498706      Perch   \n",
       "4  0.300559  1.368068  1.304433  1.208747 -0.490704  0.041497       Pike   \n",
       "\n",
       "  Predicted  \n",
       "0     Smelt  \n",
       "1     Perch  \n",
       "2     Perch  \n",
       "3     Perch  \n",
       "4      Pike  "
      ]
     },
     "execution_count": 53,
     "metadata": {},
     "output_type": "execute_result"
    }
   ],
   "source": [
    "test['Predicted']=model.predict(X_test)\n",
    "test.head()"
   ]
  },
  {
   "cell_type": "markdown",
   "id": "ed364f3a",
   "metadata": {},
   "source": [
    "# Step 9 : Model Performance Metrics on Test data "
   ]
  },
  {
   "cell_type": "code",
   "execution_count": 54,
   "id": "9b742513",
   "metadata": {},
   "outputs": [
    {
     "name": "stdout",
     "output_type": "stream",
     "text": [
      "[[ 8  1  0  0  0  0  0]\n",
      " [ 0  2  0  0  1  0  0]\n",
      " [ 0  0 20  0  1  1  0]\n",
      " [ 0  0  0  5  0  0  0]\n",
      " [ 0  1  3  0  1  0  0]\n",
      " [ 0  0  0  0  0  2  0]\n",
      " [ 0  0  2  0  0  0  0]]\n"
     ]
    }
   ],
   "source": [
    "from sklearn.metrics import confusion_matrix\n",
    "confusion_matrix = confusion_matrix(test['Species'],test['Predicted'])\n",
    "print(confusion_matrix)"
   ]
  },
  {
   "cell_type": "code",
   "execution_count": 55,
   "id": "d552b746",
   "metadata": {},
   "outputs": [
    {
     "data": {
      "text/plain": [
       "76.0"
      ]
     },
     "execution_count": 55,
     "metadata": {},
     "output_type": "execute_result"
    }
   ],
   "source": [
    "Accuracy_test=((8+2+20+5+1+2)/(50)*100)\n",
    "Accuracy_test"
   ]
  },
  {
   "cell_type": "code",
   "execution_count": 56,
   "id": "7dc6d802",
   "metadata": {},
   "outputs": [
    {
     "name": "stdout",
     "output_type": "stream",
     "text": [
      "              precision    recall  f1-score   support\n",
      "\n",
      "       Bream       1.00      0.89      0.94         9\n",
      "      Parkki       0.50      0.67      0.57         3\n",
      "       Perch       0.80      0.91      0.85        22\n",
      "        Pike       1.00      1.00      1.00         5\n",
      "       Roach       0.33      0.20      0.25         5\n",
      "       Smelt       0.67      1.00      0.80         2\n",
      "   Whitefish       0.00      0.00      0.00         2\n",
      "\n",
      "    accuracy                           0.79        48\n",
      "   macro avg       0.61      0.67      0.63        48\n",
      "weighted avg       0.75      0.79      0.77        48\n",
      "\n"
     ]
    },
    {
     "name": "stderr",
     "output_type": "stream",
     "text": [
      "C:\\Users\\L\\anaconda3\\lib\\site-packages\\sklearn\\metrics\\_classification.py:1318: UndefinedMetricWarning: Precision and F-score are ill-defined and being set to 0.0 in labels with no predicted samples. Use `zero_division` parameter to control this behavior.\n",
      "  _warn_prf(average, modifier, msg_start, len(result))\n",
      "C:\\Users\\L\\anaconda3\\lib\\site-packages\\sklearn\\metrics\\_classification.py:1318: UndefinedMetricWarning: Precision and F-score are ill-defined and being set to 0.0 in labels with no predicted samples. Use `zero_division` parameter to control this behavior.\n",
      "  _warn_prf(average, modifier, msg_start, len(result))\n",
      "C:\\Users\\L\\anaconda3\\lib\\site-packages\\sklearn\\metrics\\_classification.py:1318: UndefinedMetricWarning: Precision and F-score are ill-defined and being set to 0.0 in labels with no predicted samples. Use `zero_division` parameter to control this behavior.\n",
      "  _warn_prf(average, modifier, msg_start, len(result))\n"
     ]
    }
   ],
   "source": [
    "from sklearn.metrics import classification_report\n",
    "print(classification_report(test['Species'], test['Predicted']))"
   ]
  },
  {
   "cell_type": "markdown",
   "id": "108767d1",
   "metadata": {},
   "source": [
    "# Cross Validation Method  - Random concept\n"
   ]
  },
  {
   "cell_type": "markdown",
   "id": "40f613e0",
   "metadata": {},
   "source": [
    "* To identify the best value of K"
   ]
  },
  {
   "cell_type": "code",
   "execution_count": 57,
   "id": "f30c8b44",
   "metadata": {},
   "outputs": [
    {
     "name": "stdout",
     "output_type": "stream",
     "text": [
      "Train Accuracy is  100.0        Test Accuracy is  83.0 % for K-Value: 1\n",
      "Train Accuracy is  90.0        Test Accuracy is  77.0 % for K-Value: 2\n",
      "Train Accuracy is  90.0        Test Accuracy is  75.0 % for K-Value: 3\n",
      "Train Accuracy is  87.0        Test Accuracy is  77.0 % for K-Value: 4\n",
      "Train Accuracy is  85.0        Test Accuracy is  81.0 % for K-Value: 5\n",
      "Train Accuracy is  85.0        Test Accuracy is  79.0 % for K-Value: 6\n",
      "Train Accuracy is  84.0        Test Accuracy is  75.0 % for K-Value: 7\n",
      "Train Accuracy is  83.0        Test Accuracy is  71.0 % for K-Value: 8\n",
      "Train Accuracy is  80.0        Test Accuracy is  69.0 % for K-Value: 9\n",
      "Train Accuracy is  79.0        Test Accuracy is  73.0 % for K-Value: 10\n",
      "Train Accuracy is  78.0        Test Accuracy is  73.0 % for K-Value: 11\n",
      "Train Accuracy is  75.0        Test Accuracy is  75.0 % for K-Value: 12\n",
      "Train Accuracy is  72.0        Test Accuracy is  75.0 % for K-Value: 13\n",
      "Train Accuracy is  73.0        Test Accuracy is  77.0 % for K-Value: 14\n",
      "Train Accuracy is  72.0        Test Accuracy is  73.0 % for K-Value: 15\n",
      "Train Accuracy is  69.0        Test Accuracy is  69.0 % for K-Value: 16\n",
      "Train Accuracy is  67.0        Test Accuracy is  69.0 % for K-Value: 17\n",
      "Train Accuracy is  67.0        Test Accuracy is  69.0 % for K-Value: 18\n",
      "Train Accuracy is  65.0        Test Accuracy is  67.0 % for K-Value: 19\n",
      "Train Accuracy is  65.0        Test Accuracy is  65.0 % for K-Value: 20\n",
      "Train Accuracy is  63.0        Test Accuracy is  67.0 % for K-Value: 21\n",
      "Train Accuracy is  59.0        Test Accuracy is  69.0 % for K-Value: 22\n",
      "Train Accuracy is  60.0        Test Accuracy is  65.0 % for K-Value: 23\n",
      "Train Accuracy is  60.0        Test Accuracy is  65.0 % for K-Value: 24\n",
      "Train Accuracy is  59.0        Test Accuracy is  62.0 % for K-Value: 25\n"
     ]
    }
   ],
   "source": [
    "from sklearn.metrics import accuracy_score\n",
    "for K in range(25):\n",
    "    K_value = K+1\n",
    "    model2 = KNeighborsClassifier(n_neighbors = K_value)\n",
    "    model2.fit(X_train, y_train) \n",
    "    y_pred_Train= model2.predict(X_train)\n",
    "    y_pred_test = model2.predict(X_test)\n",
    "    print(\"Train Accuracy is \", \n",
    "          round(accuracy_score(y_train,y_pred_Train)*100,0), \"      \",\"Test Accuracy is \", round(accuracy_score(y_test,y_pred_test)*100,0),\"% for K-Value:\",\n",
    "          K_value)"
   ]
  },
  {
   "cell_type": "code",
   "execution_count": null,
   "id": "94f791fc",
   "metadata": {},
   "outputs": [],
   "source": []
  },
  {
   "cell_type": "markdown",
   "id": "4ca98beb",
   "metadata": {},
   "source": [
    "# train the decision tree\n",
    "## Instantiate the model with 5 neighbors. \n",
    "model = KNeighborsClassifier(n_neighbors=8,metric='euclidean')\n",
    "## Fit the model on the training data.\n",
    "model.fit(X_train, y_train)"
   ]
  },
  {
   "cell_type": "code",
   "execution_count": 58,
   "id": "4c2c7271",
   "metadata": {},
   "outputs": [
    {
     "name": "stdout",
     "output_type": "stream",
     "text": [
      "Fitting 10 folds for each of 8 candidates, totalling 80 fits\n"
     ]
    },
    {
     "name": "stderr",
     "output_type": "stream",
     "text": [
      "C:\\Users\\L\\anaconda3\\lib\\site-packages\\sklearn\\model_selection\\_split.py:676: UserWarning: The least populated class in y has only 4 members, which is less than n_splits=10.\n",
      "  warnings.warn(\n"
     ]
    },
    {
     "data": {
      "text/plain": [
       "GridSearchCV(cv=10, estimator=KNeighborsClassifier(),\n",
       "             param_grid={'n_neighbors': array([1, 2, 3, 4, 5, 6, 7, 8])},\n",
       "             verbose=1)"
      ]
     },
     "execution_count": 58,
     "metadata": {},
     "output_type": "execute_result"
    }
   ],
   "source": [
    "from sklearn.model_selection import GridSearchCV\n",
    "param_grid = {'n_neighbors': np.arange(1, 9)}\n",
    "\n",
    "\n",
    "knn2 = KNeighborsClassifier()\n",
    "knn_gscv = GridSearchCV(knn2, \n",
    "                        param_grid,\n",
    "                        cv=10,\n",
    "                        verbose=1)\n",
    "knn_gscv.fit(X_train, y_train)"
   ]
  },
  {
   "cell_type": "code",
   "execution_count": 60,
   "id": "cc501f01",
   "metadata": {},
   "outputs": [
    {
     "data": {
      "text/plain": [
       "{'n_neighbors': 2}"
      ]
     },
     "execution_count": 60,
     "metadata": {},
     "output_type": "execute_result"
    }
   ],
   "source": [
    "knn_gscv.best_params_\n",
    "##check top performing n_neighbors value\n"
   ]
  },
  {
   "cell_type": "code",
   "execution_count": 61,
   "id": "0d2c1537",
   "metadata": {},
   "outputs": [
    {
     "data": {
      "text/plain": [
       "0.8121212121212121"
      ]
     },
     "execution_count": 61,
     "metadata": {},
     "output_type": "execute_result"
    }
   ],
   "source": [
    "knn_gscv.best_score_"
   ]
  },
  {
   "cell_type": "markdown",
   "id": "f8e57697",
   "metadata": {},
   "source": [
    "# Finish"
   ]
  },
  {
   "cell_type": "code",
   "execution_count": null,
   "id": "30f66091",
   "metadata": {},
   "outputs": [],
   "source": []
  }
 ],
 "metadata": {
  "kernelspec": {
   "display_name": "Python 3 (ipykernel)",
   "language": "python",
   "name": "python3"
  },
  "language_info": {
   "codemirror_mode": {
    "name": "ipython",
    "version": 3
   },
   "file_extension": ".py",
   "mimetype": "text/x-python",
   "name": "python",
   "nbconvert_exporter": "python",
   "pygments_lexer": "ipython3",
   "version": "3.9.12"
  }
 },
 "nbformat": 4,
 "nbformat_minor": 5
}
