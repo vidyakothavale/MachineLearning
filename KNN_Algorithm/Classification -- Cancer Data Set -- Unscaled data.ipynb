{
 "cells": [
  {
   "cell_type": "markdown",
   "metadata": {},
   "source": [
    "# Objective :- \n",
    "\n",
    "* A cancer tumor is malignant, meaning it can grow and spread to other parts of the body. A benign tumor means the tumor can grow but will not spread.\n",
    "\n",
    "* To Predict where the patient have Cancer or not "
   ]
  },
  {
   "cell_type": "markdown",
   "metadata": {},
   "source": [
    "# Step 1 :Library & Data Import"
   ]
  },
  {
   "cell_type": "code",
   "execution_count": 2,
   "metadata": {},
   "outputs": [],
   "source": [
    "import os\n",
    "import numpy as np\n",
    "import pandas as pd\n",
    "import matplotlib.pyplot as plt\n",
    "from sklearn.neighbors import KNeighborsClassifier"
   ]
  },
  {
   "cell_type": "code",
   "execution_count": 3,
   "metadata": {
    "scrolled": true
   },
   "outputs": [
    {
     "data": {
      "text/html": [
       "<div>\n",
       "<style scoped>\n",
       "    .dataframe tbody tr th:only-of-type {\n",
       "        vertical-align: middle;\n",
       "    }\n",
       "\n",
       "    .dataframe tbody tr th {\n",
       "        vertical-align: top;\n",
       "    }\n",
       "\n",
       "    .dataframe thead th {\n",
       "        text-align: right;\n",
       "    }\n",
       "</style>\n",
       "<table border=\"1\" class=\"dataframe\">\n",
       "  <thead>\n",
       "    <tr style=\"text-align: right;\">\n",
       "      <th></th>\n",
       "      <th>id</th>\n",
       "      <th>diagnosis_result</th>\n",
       "      <th>radius</th>\n",
       "      <th>texture</th>\n",
       "      <th>perimeter</th>\n",
       "      <th>area</th>\n",
       "      <th>smoothness</th>\n",
       "      <th>compactness</th>\n",
       "      <th>symmetry</th>\n",
       "      <th>fractal_dimension</th>\n",
       "    </tr>\n",
       "  </thead>\n",
       "  <tbody>\n",
       "    <tr>\n",
       "      <th>0</th>\n",
       "      <td>1</td>\n",
       "      <td>M</td>\n",
       "      <td>23</td>\n",
       "      <td>12</td>\n",
       "      <td>151</td>\n",
       "      <td>954</td>\n",
       "      <td>0.143</td>\n",
       "      <td>0.278</td>\n",
       "      <td>0.242</td>\n",
       "      <td>0.079</td>\n",
       "    </tr>\n",
       "    <tr>\n",
       "      <th>1</th>\n",
       "      <td>2</td>\n",
       "      <td>B</td>\n",
       "      <td>9</td>\n",
       "      <td>13</td>\n",
       "      <td>133</td>\n",
       "      <td>1326</td>\n",
       "      <td>0.143</td>\n",
       "      <td>0.079</td>\n",
       "      <td>0.181</td>\n",
       "      <td>0.057</td>\n",
       "    </tr>\n",
       "    <tr>\n",
       "      <th>2</th>\n",
       "      <td>3</td>\n",
       "      <td>M</td>\n",
       "      <td>21</td>\n",
       "      <td>27</td>\n",
       "      <td>130</td>\n",
       "      <td>1203</td>\n",
       "      <td>0.125</td>\n",
       "      <td>0.160</td>\n",
       "      <td>0.207</td>\n",
       "      <td>0.060</td>\n",
       "    </tr>\n",
       "    <tr>\n",
       "      <th>3</th>\n",
       "      <td>4</td>\n",
       "      <td>M</td>\n",
       "      <td>14</td>\n",
       "      <td>16</td>\n",
       "      <td>78</td>\n",
       "      <td>386</td>\n",
       "      <td>0.070</td>\n",
       "      <td>0.284</td>\n",
       "      <td>0.260</td>\n",
       "      <td>0.097</td>\n",
       "    </tr>\n",
       "    <tr>\n",
       "      <th>4</th>\n",
       "      <td>5</td>\n",
       "      <td>M</td>\n",
       "      <td>9</td>\n",
       "      <td>19</td>\n",
       "      <td>135</td>\n",
       "      <td>1297</td>\n",
       "      <td>0.141</td>\n",
       "      <td>0.133</td>\n",
       "      <td>0.181</td>\n",
       "      <td>0.059</td>\n",
       "    </tr>\n",
       "  </tbody>\n",
       "</table>\n",
       "</div>"
      ],
      "text/plain": [
       "   id diagnosis_result  radius  texture  perimeter  area  smoothness  \\\n",
       "0   1                M      23       12        151   954       0.143   \n",
       "1   2                B       9       13        133  1326       0.143   \n",
       "2   3                M      21       27        130  1203       0.125   \n",
       "3   4                M      14       16         78   386       0.070   \n",
       "4   5                M       9       19        135  1297       0.141   \n",
       "\n",
       "   compactness  symmetry  fractal_dimension  \n",
       "0        0.278     0.242              0.079  \n",
       "1        0.079     0.181              0.057  \n",
       "2        0.160     0.207              0.060  \n",
       "3        0.284     0.260              0.097  \n",
       "4        0.133     0.181              0.059  "
      ]
     },
     "execution_count": 3,
     "metadata": {},
     "output_type": "execute_result"
    }
   ],
   "source": [
    "data = pd.read_csv(r'Prostate_Cancer.csv')\n",
    "data.head()"
   ]
  },
  {
   "cell_type": "markdown",
   "metadata": {},
   "source": [
    "#  Step 2 : Data Pre-Processing"
   ]
  },
  {
   "cell_type": "code",
   "execution_count": 25,
   "metadata": {},
   "outputs": [
    {
     "name": "stdout",
     "output_type": "stream",
     "text": [
      "<class 'pandas.core.frame.DataFrame'>\n",
      "RangeIndex: 100 entries, 0 to 99\n",
      "Data columns (total 10 columns):\n",
      " #   Column             Non-Null Count  Dtype  \n",
      "---  ------             --------------  -----  \n",
      " 0   id                 100 non-null    int64  \n",
      " 1   diagnosis_result   100 non-null    object \n",
      " 2   radius             100 non-null    int64  \n",
      " 3   texture            100 non-null    int64  \n",
      " 4   perimeter          100 non-null    int64  \n",
      " 5   area               100 non-null    int64  \n",
      " 6   smoothness         100 non-null    float64\n",
      " 7   compactness        100 non-null    float64\n",
      " 8   symmetry           100 non-null    float64\n",
      " 9   fractal_dimension  100 non-null    float64\n",
      "dtypes: float64(4), int64(5), object(1)\n",
      "memory usage: 7.9+ KB\n"
     ]
    }
   ],
   "source": [
    "data.info()"
   ]
  },
  {
   "cell_type": "markdown",
   "metadata": {},
   "source": [
    "### Removing irrelevant  "
   ]
  },
  {
   "cell_type": "code",
   "execution_count": 26,
   "metadata": {},
   "outputs": [],
   "source": [
    "data.drop('id',axis=1,inplace=True)"
   ]
  },
  {
   "cell_type": "code",
   "execution_count": 27,
   "metadata": {},
   "outputs": [
    {
     "data": {
      "text/plain": [
       "<AxesSubplot:>"
      ]
     },
     "execution_count": 27,
     "metadata": {},
     "output_type": "execute_result"
    },
    {
     "data": {
      "image/png": "[encoded data removed]",
      "text/plain": [
       "<Figure size 432x288 with 1 Axes>"
      ]
     },
     "metadata": {
      "needs_background": "light"
     },
     "output_type": "display_data"
    }
   ],
   "source": [
    "import seaborn as sns\n",
    "sns.boxplot(data=data)\n"
   ]
  },
  {
   "cell_type": "markdown",
   "metadata": {},
   "source": [
    "### Bad Rate Analysis "
   ]
  },
  {
   "cell_type": "code",
   "execution_count": 28,
   "metadata": {},
   "outputs": [
    {
     "data": {
      "text/plain": [
       "M    62\n",
       "B    38\n",
       "Name: diagnosis_result, dtype: int64"
      ]
     },
     "execution_count": 28,
     "metadata": {},
     "output_type": "execute_result"
    }
   ],
   "source": [
    "data.diagnosis_result.value_counts()"
   ]
  },
  {
   "cell_type": "markdown",
   "metadata": {},
   "source": [
    "# Step 3 : Data Partition"
   ]
  },
  {
   "cell_type": "code",
   "execution_count": 29,
   "metadata": {},
   "outputs": [],
   "source": [
    "#Dividing data into train and test dataset\n",
    "from sklearn.model_selection import train_test_split\n",
    "#from random import seed\n",
    "\n",
    "#seed(20)\n",
    "train_x = data.drop(['diagnosis_result'],axis=1)\n",
    "train_y = data['diagnosis_result']\n",
    "\n",
    "# Train test split\n",
    "\n",
    "X_train, X_test, y_train, y_test =train_test_split(train_x, train_y, test_size=0.3,random_state=20)"
   ]
  },
  {
   "cell_type": "markdown",
   "metadata": {},
   "source": [
    "# Step 4 : Model Building "
   ]
  },
  {
   "cell_type": "code",
   "execution_count": 41,
   "metadata": {},
   "outputs": [
    {
     "data": {
      "text/plain": [
       "KNeighborsClassifier(n_neighbors=7)"
      ]
     },
     "execution_count": 41,
     "metadata": {},
     "output_type": "execute_result"
    }
   ],
   "source": [
    "## Instantiate the model with 5 neighbors. \n",
    "model = KNeighborsClassifier(n_neighbors=7)  \n",
    "\n",
    "# randomly taken k =  4 \n",
    "# taken  k = sqrt(n)\n",
    "\n",
    "## Fit the model on the training data.\n",
    "model.fit(X_train, y_train)"
   ]
  },
  {
   "cell_type": "markdown",
   "metadata": {},
   "source": [
    "# Step 5 : Predictions on Train Dataset"
   ]
  },
  {
   "cell_type": "code",
   "execution_count": 42,
   "metadata": {},
   "outputs": [
    {
     "data": {
      "text/html": [
       "<div>\n",
       "<style scoped>\n",
       "    .dataframe tbody tr th:only-of-type {\n",
       "        vertical-align: middle;\n",
       "    }\n",
       "\n",
       "    .dataframe tbody tr th {\n",
       "        vertical-align: top;\n",
       "    }\n",
       "\n",
       "    .dataframe thead th {\n",
       "        text-align: right;\n",
       "    }\n",
       "</style>\n",
       "<table border=\"1\" class=\"dataframe\">\n",
       "  <thead>\n",
       "    <tr style=\"text-align: right;\">\n",
       "      <th></th>\n",
       "      <th>radius</th>\n",
       "      <th>texture</th>\n",
       "      <th>perimeter</th>\n",
       "      <th>area</th>\n",
       "      <th>smoothness</th>\n",
       "      <th>compactness</th>\n",
       "      <th>symmetry</th>\n",
       "      <th>fractal_dimension</th>\n",
       "      <th>diagnosis_result</th>\n",
       "    </tr>\n",
       "  </thead>\n",
       "  <tbody>\n",
       "    <tr>\n",
       "      <th>39</th>\n",
       "      <td>10</td>\n",
       "      <td>14</td>\n",
       "      <td>88</td>\n",
       "      <td>559</td>\n",
       "      <td>0.102</td>\n",
       "      <td>0.126</td>\n",
       "      <td>0.172</td>\n",
       "      <td>0.064</td>\n",
       "      <td>M</td>\n",
       "    </tr>\n",
       "    <tr>\n",
       "      <th>64</th>\n",
       "      <td>16</td>\n",
       "      <td>19</td>\n",
       "      <td>83</td>\n",
       "      <td>499</td>\n",
       "      <td>0.112</td>\n",
       "      <td>0.126</td>\n",
       "      <td>0.191</td>\n",
       "      <td>0.066</td>\n",
       "      <td>M</td>\n",
       "    </tr>\n",
       "    <tr>\n",
       "      <th>72</th>\n",
       "      <td>21</td>\n",
       "      <td>12</td>\n",
       "      <td>114</td>\n",
       "      <td>929</td>\n",
       "      <td>0.107</td>\n",
       "      <td>0.183</td>\n",
       "      <td>0.193</td>\n",
       "      <td>0.065</td>\n",
       "      <td>M</td>\n",
       "    </tr>\n",
       "    <tr>\n",
       "      <th>60</th>\n",
       "      <td>15</td>\n",
       "      <td>18</td>\n",
       "      <td>65</td>\n",
       "      <td>312</td>\n",
       "      <td>0.113</td>\n",
       "      <td>0.081</td>\n",
       "      <td>0.274</td>\n",
       "      <td>0.070</td>\n",
       "      <td>B</td>\n",
       "    </tr>\n",
       "    <tr>\n",
       "      <th>46</th>\n",
       "      <td>22</td>\n",
       "      <td>12</td>\n",
       "      <td>52</td>\n",
       "      <td>202</td>\n",
       "      <td>0.086</td>\n",
       "      <td>0.059</td>\n",
       "      <td>0.177</td>\n",
       "      <td>0.065</td>\n",
       "      <td>B</td>\n",
       "    </tr>\n",
       "  </tbody>\n",
       "</table>\n",
       "</div>"
      ],
      "text/plain": [
       "    radius  texture  perimeter  area  smoothness  compactness  symmetry  \\\n",
       "39      10       14         88   559       0.102        0.126     0.172   \n",
       "64      16       19         83   499       0.112        0.126     0.191   \n",
       "72      21       12        114   929       0.107        0.183     0.193   \n",
       "60      15       18         65   312       0.113        0.081     0.274   \n",
       "46      22       12         52   202       0.086        0.059     0.177   \n",
       "\n",
       "    fractal_dimension diagnosis_result  \n",
       "39              0.064                M  \n",
       "64              0.066                M  \n",
       "72              0.065                M  \n",
       "60              0.070                B  \n",
       "46              0.065                B  "
      ]
     },
     "execution_count": 42,
     "metadata": {},
     "output_type": "execute_result"
    }
   ],
   "source": [
    "train=pd.concat([X_train,y_train],axis=1)\n",
    "train.head()"
   ]
  },
  {
   "cell_type": "code",
   "execution_count": 43,
   "metadata": {},
   "outputs": [
    {
     "data": {
      "text/html": [
       "<div>\n",
       "<style scoped>\n",
       "    .dataframe tbody tr th:only-of-type {\n",
       "        vertical-align: middle;\n",
       "    }\n",
       "\n",
       "    .dataframe tbody tr th {\n",
       "        vertical-align: top;\n",
       "    }\n",
       "\n",
       "    .dataframe thead th {\n",
       "        text-align: right;\n",
       "    }\n",
       "</style>\n",
       "<table border=\"1\" class=\"dataframe\">\n",
       "  <thead>\n",
       "    <tr style=\"text-align: right;\">\n",
       "      <th></th>\n",
       "      <th>radius</th>\n",
       "      <th>texture</th>\n",
       "      <th>perimeter</th>\n",
       "      <th>area</th>\n",
       "      <th>smoothness</th>\n",
       "      <th>compactness</th>\n",
       "      <th>symmetry</th>\n",
       "      <th>fractal_dimension</th>\n",
       "      <th>diagnosis_result</th>\n",
       "      <th>Predicted</th>\n",
       "    </tr>\n",
       "  </thead>\n",
       "  <tbody>\n",
       "    <tr>\n",
       "      <th>39</th>\n",
       "      <td>10</td>\n",
       "      <td>14</td>\n",
       "      <td>88</td>\n",
       "      <td>559</td>\n",
       "      <td>0.102</td>\n",
       "      <td>0.126</td>\n",
       "      <td>0.172</td>\n",
       "      <td>0.064</td>\n",
       "      <td>M</td>\n",
       "      <td>M</td>\n",
       "    </tr>\n",
       "    <tr>\n",
       "      <th>64</th>\n",
       "      <td>16</td>\n",
       "      <td>19</td>\n",
       "      <td>83</td>\n",
       "      <td>499</td>\n",
       "      <td>0.112</td>\n",
       "      <td>0.126</td>\n",
       "      <td>0.191</td>\n",
       "      <td>0.066</td>\n",
       "      <td>M</td>\n",
       "      <td>B</td>\n",
       "    </tr>\n",
       "    <tr>\n",
       "      <th>72</th>\n",
       "      <td>21</td>\n",
       "      <td>12</td>\n",
       "      <td>114</td>\n",
       "      <td>929</td>\n",
       "      <td>0.107</td>\n",
       "      <td>0.183</td>\n",
       "      <td>0.193</td>\n",
       "      <td>0.065</td>\n",
       "      <td>M</td>\n",
       "      <td>M</td>\n",
       "    </tr>\n",
       "    <tr>\n",
       "      <th>60</th>\n",
       "      <td>15</td>\n",
       "      <td>18</td>\n",
       "      <td>65</td>\n",
       "      <td>312</td>\n",
       "      <td>0.113</td>\n",
       "      <td>0.081</td>\n",
       "      <td>0.274</td>\n",
       "      <td>0.070</td>\n",
       "      <td>B</td>\n",
       "      <td>B</td>\n",
       "    </tr>\n",
       "    <tr>\n",
       "      <th>46</th>\n",
       "      <td>22</td>\n",
       "      <td>12</td>\n",
       "      <td>52</td>\n",
       "      <td>202</td>\n",
       "      <td>0.086</td>\n",
       "      <td>0.059</td>\n",
       "      <td>0.177</td>\n",
       "      <td>0.065</td>\n",
       "      <td>B</td>\n",
       "      <td>B</td>\n",
       "    </tr>\n",
       "  </tbody>\n",
       "</table>\n",
       "</div>"
      ],
      "text/plain": [
       "    radius  texture  perimeter  area  smoothness  compactness  symmetry  \\\n",
       "39      10       14         88   559       0.102        0.126     0.172   \n",
       "64      16       19         83   499       0.112        0.126     0.191   \n",
       "72      21       12        114   929       0.107        0.183     0.193   \n",
       "60      15       18         65   312       0.113        0.081     0.274   \n",
       "46      22       12         52   202       0.086        0.059     0.177   \n",
       "\n",
       "    fractal_dimension diagnosis_result Predicted  \n",
       "39              0.064                M         M  \n",
       "64              0.066                M         B  \n",
       "72              0.065                M         M  \n",
       "60              0.070                B         B  \n",
       "46              0.065                B         B  "
      ]
     },
     "execution_count": 43,
     "metadata": {},
     "output_type": "execute_result"
    }
   ],
   "source": [
    "train['Predicted']=model.predict(X_train)\n",
    "train.head()"
   ]
  },
  {
   "cell_type": "markdown",
   "metadata": {},
   "source": [
    "# Step 6 : Model Performance Metrics"
   ]
  },
  {
   "cell_type": "code",
   "execution_count": 44,
   "metadata": {},
   "outputs": [
    {
     "name": "stdout",
     "output_type": "stream",
     "text": [
      "[[19  2]\n",
      " [ 5 44]]\n"
     ]
    }
   ],
   "source": [
    "from sklearn.metrics import confusion_matrix\n",
    "confusion_matrix = confusion_matrix(train['diagnosis_result'],train['Predicted'])\n",
    "print(confusion_matrix)"
   ]
  },
  {
   "cell_type": "code",
   "execution_count": 45,
   "metadata": {},
   "outputs": [
    {
     "name": "stdout",
     "output_type": "stream",
     "text": [
      "90.0\n"
     ]
    }
   ],
   "source": [
    "Accuracy_Train=((19+44)/(70)*100)\n",
    "print(Accuracy_Train)"
   ]
  },
  {
   "cell_type": "markdown",
   "metadata": {},
   "source": [
    "# Step 7 : Predictions on Test Dataset"
   ]
  },
  {
   "cell_type": "code",
   "execution_count": 46,
   "metadata": {},
   "outputs": [
    {
     "data": {
      "text/html": [
       "<div>\n",
       "<style scoped>\n",
       "    .dataframe tbody tr th:only-of-type {\n",
       "        vertical-align: middle;\n",
       "    }\n",
       "\n",
       "    .dataframe tbody tr th {\n",
       "        vertical-align: top;\n",
       "    }\n",
       "\n",
       "    .dataframe thead th {\n",
       "        text-align: right;\n",
       "    }\n",
       "</style>\n",
       "<table border=\"1\" class=\"dataframe\">\n",
       "  <thead>\n",
       "    <tr style=\"text-align: right;\">\n",
       "      <th></th>\n",
       "      <th>radius</th>\n",
       "      <th>texture</th>\n",
       "      <th>perimeter</th>\n",
       "      <th>area</th>\n",
       "      <th>smoothness</th>\n",
       "      <th>compactness</th>\n",
       "      <th>symmetry</th>\n",
       "      <th>fractal_dimension</th>\n",
       "      <th>diagnosis_result</th>\n",
       "    </tr>\n",
       "  </thead>\n",
       "  <tbody>\n",
       "    <tr>\n",
       "      <th>70</th>\n",
       "      <td>21</td>\n",
       "      <td>18</td>\n",
       "      <td>124</td>\n",
       "      <td>1130</td>\n",
       "      <td>0.090</td>\n",
       "      <td>0.103</td>\n",
       "      <td>0.158</td>\n",
       "      <td>0.055</td>\n",
       "      <td>M</td>\n",
       "    </tr>\n",
       "    <tr>\n",
       "      <th>74</th>\n",
       "      <td>18</td>\n",
       "      <td>13</td>\n",
       "      <td>79</td>\n",
       "      <td>471</td>\n",
       "      <td>0.092</td>\n",
       "      <td>0.068</td>\n",
       "      <td>0.172</td>\n",
       "      <td>0.059</td>\n",
       "      <td>B</td>\n",
       "    </tr>\n",
       "    <tr>\n",
       "      <th>2</th>\n",
       "      <td>21</td>\n",
       "      <td>27</td>\n",
       "      <td>130</td>\n",
       "      <td>1203</td>\n",
       "      <td>0.125</td>\n",
       "      <td>0.160</td>\n",
       "      <td>0.207</td>\n",
       "      <td>0.060</td>\n",
       "      <td>M</td>\n",
       "    </tr>\n",
       "    <tr>\n",
       "      <th>44</th>\n",
       "      <td>10</td>\n",
       "      <td>15</td>\n",
       "      <td>85</td>\n",
       "      <td>532</td>\n",
       "      <td>0.097</td>\n",
       "      <td>0.105</td>\n",
       "      <td>0.175</td>\n",
       "      <td>0.062</td>\n",
       "      <td>M</td>\n",
       "    </tr>\n",
       "    <tr>\n",
       "      <th>56</th>\n",
       "      <td>10</td>\n",
       "      <td>19</td>\n",
       "      <td>126</td>\n",
       "      <td>1152</td>\n",
       "      <td>0.105</td>\n",
       "      <td>0.127</td>\n",
       "      <td>0.192</td>\n",
       "      <td>0.060</td>\n",
       "      <td>M</td>\n",
       "    </tr>\n",
       "  </tbody>\n",
       "</table>\n",
       "</div>"
      ],
      "text/plain": [
       "    radius  texture  perimeter  area  smoothness  compactness  symmetry  \\\n",
       "70      21       18        124  1130       0.090        0.103     0.158   \n",
       "74      18       13         79   471       0.092        0.068     0.172   \n",
       "2       21       27        130  1203       0.125        0.160     0.207   \n",
       "44      10       15         85   532       0.097        0.105     0.175   \n",
       "56      10       19        126  1152       0.105        0.127     0.192   \n",
       "\n",
       "    fractal_dimension diagnosis_result  \n",
       "70              0.055                M  \n",
       "74              0.059                B  \n",
       "2               0.060                M  \n",
       "44              0.062                M  \n",
       "56              0.060                M  "
      ]
     },
     "execution_count": 46,
     "metadata": {},
     "output_type": "execute_result"
    }
   ],
   "source": [
    "test=pd.concat([X_test,y_test],axis=1)\n",
    "test.head()"
   ]
  },
  {
   "cell_type": "code",
   "execution_count": 47,
   "metadata": {},
   "outputs": [
    {
     "data": {
      "text/html": [
       "<div>\n",
       "<style scoped>\n",
       "    .dataframe tbody tr th:only-of-type {\n",
       "        vertical-align: middle;\n",
       "    }\n",
       "\n",
       "    .dataframe tbody tr th {\n",
       "        vertical-align: top;\n",
       "    }\n",
       "\n",
       "    .dataframe thead th {\n",
       "        text-align: right;\n",
       "    }\n",
       "</style>\n",
       "<table border=\"1\" class=\"dataframe\">\n",
       "  <thead>\n",
       "    <tr style=\"text-align: right;\">\n",
       "      <th></th>\n",
       "      <th>radius</th>\n",
       "      <th>texture</th>\n",
       "      <th>perimeter</th>\n",
       "      <th>area</th>\n",
       "      <th>smoothness</th>\n",
       "      <th>compactness</th>\n",
       "      <th>symmetry</th>\n",
       "      <th>fractal_dimension</th>\n",
       "      <th>diagnosis_result</th>\n",
       "      <th>Predicted</th>\n",
       "    </tr>\n",
       "  </thead>\n",
       "  <tbody>\n",
       "    <tr>\n",
       "      <th>70</th>\n",
       "      <td>21</td>\n",
       "      <td>18</td>\n",
       "      <td>124</td>\n",
       "      <td>1130</td>\n",
       "      <td>0.090</td>\n",
       "      <td>0.103</td>\n",
       "      <td>0.158</td>\n",
       "      <td>0.055</td>\n",
       "      <td>M</td>\n",
       "      <td>M</td>\n",
       "    </tr>\n",
       "    <tr>\n",
       "      <th>74</th>\n",
       "      <td>18</td>\n",
       "      <td>13</td>\n",
       "      <td>79</td>\n",
       "      <td>471</td>\n",
       "      <td>0.092</td>\n",
       "      <td>0.068</td>\n",
       "      <td>0.172</td>\n",
       "      <td>0.059</td>\n",
       "      <td>B</td>\n",
       "      <td>B</td>\n",
       "    </tr>\n",
       "    <tr>\n",
       "      <th>2</th>\n",
       "      <td>21</td>\n",
       "      <td>27</td>\n",
       "      <td>130</td>\n",
       "      <td>1203</td>\n",
       "      <td>0.125</td>\n",
       "      <td>0.160</td>\n",
       "      <td>0.207</td>\n",
       "      <td>0.060</td>\n",
       "      <td>M</td>\n",
       "      <td>M</td>\n",
       "    </tr>\n",
       "    <tr>\n",
       "      <th>44</th>\n",
       "      <td>10</td>\n",
       "      <td>15</td>\n",
       "      <td>85</td>\n",
       "      <td>532</td>\n",
       "      <td>0.097</td>\n",
       "      <td>0.105</td>\n",
       "      <td>0.175</td>\n",
       "      <td>0.062</td>\n",
       "      <td>M</td>\n",
       "      <td>M</td>\n",
       "    </tr>\n",
       "    <tr>\n",
       "      <th>56</th>\n",
       "      <td>10</td>\n",
       "      <td>19</td>\n",
       "      <td>126</td>\n",
       "      <td>1152</td>\n",
       "      <td>0.105</td>\n",
       "      <td>0.127</td>\n",
       "      <td>0.192</td>\n",
       "      <td>0.060</td>\n",
       "      <td>M</td>\n",
       "      <td>M</td>\n",
       "    </tr>\n",
       "  </tbody>\n",
       "</table>\n",
       "</div>"
      ],
      "text/plain": [
       "    radius  texture  perimeter  area  smoothness  compactness  symmetry  \\\n",
       "70      21       18        124  1130       0.090        0.103     0.158   \n",
       "74      18       13         79   471       0.092        0.068     0.172   \n",
       "2       21       27        130  1203       0.125        0.160     0.207   \n",
       "44      10       15         85   532       0.097        0.105     0.175   \n",
       "56      10       19        126  1152       0.105        0.127     0.192   \n",
       "\n",
       "    fractal_dimension diagnosis_result Predicted  \n",
       "70              0.055                M         M  \n",
       "74              0.059                B         B  \n",
       "2               0.060                M         M  \n",
       "44              0.062                M         M  \n",
       "56              0.060                M         M  "
      ]
     },
     "execution_count": 47,
     "metadata": {},
     "output_type": "execute_result"
    }
   ],
   "source": [
    "test['Predicted']=model.predict(X_test)\n",
    "test.head()"
   ]
  },
  {
   "cell_type": "markdown",
   "metadata": {},
   "source": [
    "# Step 8 : Model Performance Metrics on Test data "
   ]
  },
  {
   "cell_type": "code",
   "execution_count": 48,
   "metadata": {},
   "outputs": [
    {
     "name": "stdout",
     "output_type": "stream",
     "text": [
      "[[ 9  8]\n",
      " [ 1 12]]\n"
     ]
    }
   ],
   "source": [
    "from sklearn.metrics import confusion_matrix\n",
    "confusion_matrix = confusion_matrix(test['diagnosis_result'],test['Predicted'])\n",
    "print(confusion_matrix)"
   ]
  },
  {
   "cell_type": "code",
   "execution_count": 49,
   "metadata": {},
   "outputs": [
    {
     "data": {
      "text/plain": [
       "70.0"
      ]
     },
     "execution_count": 49,
     "metadata": {},
     "output_type": "execute_result"
    }
   ],
   "source": [
    "Accuracy_test=((12+9)/(30)*100)\n",
    "Accuracy_test"
   ]
  },
  {
   "cell_type": "markdown",
   "metadata": {},
   "source": [
    "# To identify the best value of K"
   ]
  },
  {
   "cell_type": "code",
   "execution_count": 40,
   "metadata": {},
   "outputs": [
    {
     "name": "stdout",
     "output_type": "stream",
     "text": [
      "Train Accuracy is  100.0         Test Accuracy is  57.0 % for K-Value: 1\n",
      "Train Accuracy is  94.0         Test Accuracy is  60.0 % for K-Value: 2\n",
      "Train Accuracy is  93.0         Test Accuracy is  60.0 % for K-Value: 3\n",
      "Train Accuracy is  86.0         Test Accuracy is  63.0 % for K-Value: 4\n",
      "Train Accuracy is  89.0         Test Accuracy is  67.0 % for K-Value: 5\n",
      "Train Accuracy is  89.0         Test Accuracy is  67.0 % for K-Value: 6\n",
      "Train Accuracy is  90.0         Test Accuracy is  70.0 % for K-Value: 7\n",
      "Train Accuracy is  90.0         Test Accuracy is  67.0 % for K-Value: 8\n",
      "Train Accuracy is  87.0         Test Accuracy is  63.0 % for K-Value: 9\n",
      "Train Accuracy is  86.0         Test Accuracy is  63.0 % for K-Value: 10\n",
      "Train Accuracy is  87.0         Test Accuracy is  63.0 % for K-Value: 11\n",
      "Train Accuracy is  86.0         Test Accuracy is  63.0 % for K-Value: 12\n",
      "Train Accuracy is  87.0         Test Accuracy is  63.0 % for K-Value: 13\n",
      "Train Accuracy is  86.0         Test Accuracy is  67.0 % for K-Value: 14\n",
      "Train Accuracy is  87.0         Test Accuracy is  63.0 % for K-Value: 15\n",
      "Train Accuracy is  87.0         Test Accuracy is  63.0 % for K-Value: 16\n",
      "Train Accuracy is  87.0         Test Accuracy is  63.0 % for K-Value: 17\n",
      "Train Accuracy is  87.0         Test Accuracy is  63.0 % for K-Value: 18\n",
      "Train Accuracy is  87.0         Test Accuracy is  63.0 % for K-Value: 19\n",
      "Train Accuracy is  89.0         Test Accuracy is  67.0 % for K-Value: 20\n",
      "Train Accuracy is  87.0         Test Accuracy is  67.0 % for K-Value: 21\n",
      "Train Accuracy is  87.0         Test Accuracy is  67.0 % for K-Value: 22\n",
      "Train Accuracy is  89.0         Test Accuracy is  47.0 % for K-Value: 23\n",
      "Train Accuracy is  87.0         Test Accuracy is  63.0 % for K-Value: 24\n",
      "Train Accuracy is  89.0         Test Accuracy is  57.0 % for K-Value: 25\n"
     ]
    }
   ],
   "source": [
    "from sklearn.metrics import accuracy_score\n",
    "for K in range(25): #K=0,1,2,.....,24\n",
    "    K_value = K+1 # K_value=1\n",
    "    model2 = KNeighborsClassifier(n_neighbors = K_value) #1\n",
    "    model2.fit(X_train, y_train) \n",
    "    y_pred_Train= model2.predict(X_train)\n",
    "    y_pred_test = model2.predict(X_test)\n",
    "    print(\"Train Accuracy is \", \n",
    "          round(accuracy_score(y_train,y_pred_Train)*100,0),\"      \",\" Test Accuracy is \", round(accuracy_score(y_test,y_pred_test)*100,0),\"% for K-Value:\",\n",
    "          K_value)"
   ]
  },
  {
   "cell_type": "markdown",
   "metadata": {},
   "source": [
    "# Finish"
   ]
  }
 ],
 "metadata": {
  "kernelspec": {
   "display_name": "Python 3 (ipykernel)",
   "language": "python",
   "name": "python3"
  },
  "language_info": {
   "codemirror_mode": {
    "name": "ipython",
    "version": 3
   },
   "file_extension": ".py",
   "mimetype": "text/x-python",
   "name": "python",
   "nbconvert_exporter": "python",
   "pygments_lexer": "ipython3",
   "version": "3.9.12"
  }
 },
 "nbformat": 4,
 "nbformat_minor": 2
}
