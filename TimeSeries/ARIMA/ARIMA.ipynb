{
 "cells": [
  {
   "cell_type": "code",
   "execution_count": 1,
   "metadata": {},
   "outputs": [],
   "source": [
    "import pandas as pd\n",
    "import matplotlib.pyplot as plt\n",
    "from statsmodels.graphics.tsaplots import plot_acf, plot_pacf\n",
    "import warnings\n",
    "warnings.filterwarnings(\"ignore\")\n",
    "\n",
    "# !pip3 install pyramid-arima\n"
   ]
  },
  {
   "cell_type": "markdown",
   "metadata": {},
   "source": [
    "# Import Data\n",
    "df = pd.read_csv('https://github.com/selva86/datasets/raw/master/AirPassengers.csv')"
   ]
  },
  {
   "cell_type": "code",
   "execution_count": 2,
   "metadata": {},
   "outputs": [
    {
     "name": "stdout",
     "output_type": "stream",
     "text": [
      "Note: you may need to restart the kernel to use updated packages.\n"
     ]
    },
    {
     "name": "stderr",
     "output_type": "stream",
     "text": [
      "ERROR: Could not find a version that satisfies the requirement os (from versions: none)\n",
      "ERROR: No matching distribution found for os\n"
     ]
    }
   ],
   "source": [
    "pip install os"
   ]
  },
  {
   "cell_type": "code",
   "execution_count": 3,
   "metadata": {},
   "outputs": [
    {
     "ename": "FileNotFoundError",
     "evalue": "[WinError 3] The system cannot find the path specified: 'C:\\\\Users\\\\User\\\\Desktop\\\\Python Code\\\\Time Series - IMS Student\\\\Python\\\\ARIMA'",
     "output_type": "error",
     "traceback": [
      "\u001b[1;31m---------------------------------------------------------------------------\u001b[0m",
      "\u001b[1;31mFileNotFoundError\u001b[0m                         Traceback (most recent call last)",
      "Input \u001b[1;32mIn [3]\u001b[0m, in \u001b[0;36m<cell line: 2>\u001b[1;34m()\u001b[0m\n\u001b[0;32m      1\u001b[0m \u001b[38;5;28;01mimport\u001b[39;00m \u001b[38;5;21;01mos\u001b[39;00m \n\u001b[1;32m----> 2\u001b[0m \u001b[43mos\u001b[49m\u001b[38;5;241;43m.\u001b[39;49m\u001b[43mchdir\u001b[49m\u001b[43m(\u001b[49m\u001b[38;5;124;43mr\u001b[39;49m\u001b[38;5;124;43m\"\u001b[39;49m\u001b[38;5;124;43mC:\u001b[39;49m\u001b[38;5;124;43m\\\u001b[39;49m\u001b[38;5;124;43mUsers\u001b[39;49m\u001b[38;5;124;43m\\\u001b[39;49m\u001b[38;5;124;43mUser\u001b[39;49m\u001b[38;5;124;43m\\\u001b[39;49m\u001b[38;5;124;43mDesktop\u001b[39;49m\u001b[38;5;124;43m\\\u001b[39;49m\u001b[38;5;124;43mPython Code\u001b[39;49m\u001b[38;5;124;43m\\\u001b[39;49m\u001b[38;5;124;43mTime Series - IMS Student\u001b[39;49m\u001b[38;5;124;43m\\\u001b[39;49m\u001b[38;5;124;43mPython\u001b[39;49m\u001b[38;5;124;43m\\\u001b[39;49m\u001b[38;5;124;43mARIMA\u001b[39;49m\u001b[38;5;124;43m\"\u001b[39;49m\u001b[43m)\u001b[49m\n",
      "\u001b[1;31mFileNotFoundError\u001b[0m: [WinError 3] The system cannot find the path specified: 'C:\\\\Users\\\\User\\\\Desktop\\\\Python Code\\\\Time Series - IMS Student\\\\Python\\\\ARIMA'"
     ]
    }
   ],
   "source": [
    "import os \n",
    "os.chdir(r\"C:\\Users\\User\\Desktop\\Python Code\\Time Series - IMS Student\\Python\\ARIMA\")"
   ]
  },
  {
   "cell_type": "code",
   "execution_count": 4,
   "metadata": {},
   "outputs": [
    {
     "name": "stdout",
     "output_type": "stream",
     "text": [
      "Collecting pyramid-arima\n",
      "  Using cached pyramid-arima-0.8.1.tar.gz (515 kB)\n",
      "Requirement already satisfied: Cython>=0.23 in c:\\users\\l\\anaconda3\\lib\\site-packages (from pyramid-arima) (0.29.28)\n",
      "Requirement already satisfied: numpy>=1.10 in c:\\users\\l\\anaconda3\\lib\\site-packages (from pyramid-arima) (1.21.5)\n",
      "Requirement already satisfied: scipy>=0.9 in c:\\users\\l\\anaconda3\\lib\\site-packages (from pyramid-arima) (1.7.3)\n",
      "Requirement already satisfied: scikit-learn>=0.17 in c:\\users\\l\\anaconda3\\lib\\site-packages (from pyramid-arima) (1.0.2)\n",
      "Requirement already satisfied: pandas>=0.19 in c:\\users\\l\\anaconda3\\lib\\site-packages (from pyramid-arima) (1.4.2)\n",
      "Requirement already satisfied: statsmodels>=0.9.0 in c:\\users\\l\\anaconda3\\lib\\site-packages (from pyramid-arima) (0.13.2)\n",
      "Requirement already satisfied: pytz>=2020.1 in c:\\users\\l\\anaconda3\\lib\\site-packages (from pandas>=0.19->pyramid-arima) (2021.3)\n",
      "Requirement already satisfied: python-dateutil>=2.8.1 in c:\\users\\l\\anaconda3\\lib\\site-packages (from pandas>=0.19->pyramid-arima) (2.8.2)\n",
      "Requirement already satisfied: six>=1.5 in c:\\users\\l\\anaconda3\\lib\\site-packages (from python-dateutil>=2.8.1->pandas>=0.19->pyramid-arima) (1.16.0)\n",
      "Requirement already satisfied: joblib>=0.11 in c:\\users\\l\\anaconda3\\lib\\site-packages (from scikit-learn>=0.17->pyramid-arima) (1.1.0)\n",
      "Requirement already satisfied: threadpoolctl>=2.0.0 in c:\\users\\l\\anaconda3\\lib\\site-packages (from scikit-learn>=0.17->pyramid-arima) (2.2.0)\n",
      "Requirement already satisfied: patsy>=0.5.2 in c:\\users\\l\\anaconda3\\lib\\site-packages (from statsmodels>=0.9.0->pyramid-arima) (0.5.2)\n",
      "Requirement already satisfied: packaging>=21.3 in c:\\users\\l\\anaconda3\\lib\\site-packages (from statsmodels>=0.9.0->pyramid-arima) (21.3)\n",
      "Requirement already satisfied: pyparsing!=3.0.5,>=2.0.2 in c:\\users\\l\\anaconda3\\lib\\site-packages (from packaging>=21.3->statsmodels>=0.9.0->pyramid-arima) (3.0.4)\n",
      "Building wheels for collected packages: pyramid-arima\n",
      "  Building wheel for pyramid-arima (setup.py): started\n",
      "  Building wheel for pyramid-arima (setup.py): finished with status 'error'\n",
      "  Running setup.py clean for pyramid-arima\n",
      "Failed to build pyramid-arima\n",
      "Installing collected packages: pyramid-arima\n",
      "    Running setup.py install for pyramid-arima: started\n",
      "    Running setup.py install for pyramid-arima: finished with status 'error'\n",
      "Note: you may need to restart the kernel to use updated packages.\n"
     ]
    },
    {
     "name": "stderr",
     "output_type": "stream",
     "text": [
      "  ERROR: Command errored out with exit status 1:\n",
      "   command: 'C:\\Users\\L\\anaconda3\\python.exe' -u -c 'import io, os, sys, setuptools, tokenize; sys.argv[0] = '\"'\"'C:\\\\Users\\\\L\\\\AppData\\\\Local\\\\Temp\\\\pip-install-3zxrmmqz\\\\pyramid-arima_a204c73598464a36886e904fc95e55d7\\\\setup.py'\"'\"'; __file__='\"'\"'C:\\\\Users\\\\L\\\\AppData\\\\Local\\\\Temp\\\\pip-install-3zxrmmqz\\\\pyramid-arima_a204c73598464a36886e904fc95e55d7\\\\setup.py'\"'\"';f = getattr(tokenize, '\"'\"'open'\"'\"', open)(__file__) if os.path.exists(__file__) else io.StringIO('\"'\"'from setuptools import setup; setup()'\"'\"');code = f.read().replace('\"'\"'\\r\\n'\"'\"', '\"'\"'\\n'\"'\"');f.close();exec(compile(code, __file__, '\"'\"'exec'\"'\"'))' bdist_wheel -d 'C:\\Users\\L\\AppData\\Local\\Temp\\pip-wheel-x99_wtx_'\n",
      "       cwd: C:\\Users\\L\\AppData\\Local\\Temp\\pip-install-3zxrmmqz\\pyramid-arima_a204c73598464a36886e904fc95e55d7\\\n",
      "  Complete output (176 lines):\n",
      "  Partial import of pyramid during the build process.\n",
      "  \n",
      "  Requirements: ['Cython>=0.23\\nnumpy>=1.10\\nscipy>=0.9\\nscikit-learn>=0.17\\npandas>=0.19\\nstatsmodels>=0.9.0\\n']\n",
      "  Adding extra setuptools args\n",
      "  C:\\Users\\L\\anaconda3\\lib\\site-packages\\setuptools\\dist.py:757: UserWarning: Usage of dash-separated 'description-file' will not be supported in future versions. Please use the underscore name 'description_file' instead\n",
      "    warnings.warn(\n",
      "  blas_opt_info:\n",
      "  blas_mkl_info:\n",
      "  No module named 'numpy.distutils._msvccompiler' in numpy.distutils; trying from distutils\n",
      "  customize MSVCCompiler\n",
      "    libraries mkl_rt not found in ['C:/Users/L/anaconda3\\\\Library\\\\lib']\n",
      "    NOT AVAILABLE\n",
      "  \n",
      "  blis_info:\n",
      "    libraries blis not found in ['C:\\\\Users\\\\L\\\\anaconda3\\\\lib', 'C:\\\\', 'C:\\\\Users\\\\L\\\\anaconda3\\\\libs']\n",
      "    NOT AVAILABLE\n",
      "  \n",
      "  openblas_info:\n",
      "    libraries openblas not found in ['C:\\\\Users\\\\L\\\\anaconda3\\\\lib', 'C:\\\\', 'C:\\\\Users\\\\L\\\\anaconda3\\\\libs']\n",
      "  get_default_fcompiler: matching types: '['gnu', 'intelv', 'absoft', 'compaqv', 'intelev', 'gnu95', 'g95', 'intelvem', 'intelem', 'flang']'\n",
      "  customize GnuFCompiler\n",
      "  Could not locate executable g77\n",
      "  Could not locate executable f77\n",
      "  customize IntelVisualFCompiler\n",
      "  Could not locate executable ifort\n",
      "  Could not locate executable ifl\n",
      "  customize AbsoftFCompiler\n",
      "  Could not locate executable f90\n",
      "  customize CompaqVisualFCompiler\n",
      "  Could not locate executable DF\n",
      "  customize IntelItaniumVisualFCompiler\n",
      "  Could not locate executable efl\n",
      "  customize Gnu95FCompiler\n",
      "  Could not locate executable gfortran\n",
      "  Could not locate executable f95\n",
      "  customize G95FCompiler\n",
      "  Could not locate executable g95\n",
      "  customize IntelEM64VisualFCompiler\n",
      "  customize IntelEM64TFCompiler\n",
      "  Could not locate executable efort\n",
      "  Could not locate executable efc\n",
      "  customize PGroupFlangCompiler\n",
      "  Could not locate executable flang\n",
      "  don't know how to compile Fortran code on platform 'nt'\n",
      "    NOT AVAILABLE\n",
      "  \n",
      "  accelerate_info:\n",
      "    NOT AVAILABLE\n",
      "  \n",
      "  atlas_3_10_blas_threads_info:\n",
      "  Setting PTATLAS=ATLAS\n",
      "    libraries tatlas not found in ['C:\\\\Users\\\\L\\\\anaconda3\\\\lib', 'C:\\\\', 'C:\\\\Users\\\\L\\\\anaconda3\\\\libs']\n",
      "    NOT AVAILABLE\n",
      "  \n",
      "  atlas_3_10_blas_info:\n",
      "    libraries satlas not found in ['C:\\\\Users\\\\L\\\\anaconda3\\\\lib', 'C:\\\\', 'C:\\\\Users\\\\L\\\\anaconda3\\\\libs']\n",
      "    NOT AVAILABLE\n",
      "  \n",
      "  atlas_blas_threads_info:\n",
      "  Setting PTATLAS=ATLAS\n",
      "    libraries ptf77blas,ptcblas,atlas not found in ['C:\\\\Users\\\\L\\\\anaconda3\\\\lib', 'C:\\\\', 'C:\\\\Users\\\\L\\\\anaconda3\\\\libs']\n",
      "    NOT AVAILABLE\n",
      "  \n",
      "  atlas_blas_info:\n",
      "    libraries f77blas,cblas,atlas not found in ['C:\\\\Users\\\\L\\\\anaconda3\\\\lib', 'C:\\\\', 'C:\\\\Users\\\\L\\\\anaconda3\\\\libs']\n",
      "    NOT AVAILABLE\n",
      "  \n",
      "  C:\\Users\\L\\anaconda3\\lib\\site-packages\\numpy\\distutils\\system_info.py:2026: UserWarning:\n",
      "      Optimized (vendor) Blas libraries are not found.\n",
      "      Falls back to netlib Blas library which has worse performance.\n",
      "      A better performance should be easily gained by switching\n",
      "      Blas library.\n",
      "    if self._calc_info(blas):\n",
      "  blas_info:\n",
      "    libraries blas not found in ['C:\\\\Users\\\\L\\\\anaconda3\\\\lib', 'C:\\\\', 'C:\\\\Users\\\\L\\\\anaconda3\\\\libs']\n",
      "    NOT AVAILABLE\n",
      "  \n",
      "  C:\\Users\\L\\anaconda3\\lib\\site-packages\\numpy\\distutils\\system_info.py:2026: UserWarning:\n",
      "      Blas (http://www.netlib.org/blas/) libraries not found.\n",
      "      Directories to search for the libraries can be specified in the\n",
      "      numpy/distutils/site.cfg file (section [blas]) or by setting\n",
      "      the BLAS environment variable.\n",
      "    if self._calc_info(blas):\n",
      "  blas_src_info:\n",
      "    NOT AVAILABLE\n",
      "  \n",
      "  C:\\Users\\L\\anaconda3\\lib\\site-packages\\numpy\\distutils\\system_info.py:2026: UserWarning:\n",
      "      Blas (http://www.netlib.org/blas/) sources not found.\n",
      "      Directories to search for the sources can be specified in the\n",
      "      numpy/distutils/site.cfg file (section [blas_src]) or by setting\n",
      "      the BLAS_SRC environment variable.\n",
      "    if self._calc_info(blas):\n",
      "    NOT AVAILABLE\n",
      "  \n",
      "  running bdist_wheel\n",
      "  running build\n",
      "  running config_cc\n",
      "  unifing config_cc, config, build_clib, build_ext, build commands --compiler options\n",
      "  running config_fc\n",
      "  unifing config_fc, config, build_clib, build_ext, build commands --fcompiler options\n",
      "  running build_src\n",
      "  build_src\n",
      "  building extension \"pyramid.__check_build._check_build\" sources\n",
      "  building extension \"pyramid.arima._arima\" sources\n",
      "  build_src: building npy-pkg config files\n",
      "  C:\\Users\\L\\anaconda3\\lib\\site-packages\\setuptools\\command\\install.py:34: SetuptoolsDeprecationWarning: setup.py install is deprecated. Use build and pip and other standards-based tools.\n",
      "    warnings.warn(\n",
      "  running build_py\n",
      "  creating build\n",
      "  creating build\\lib.win-amd64-3.9\n",
      "  creating build\\lib.win-amd64-3.9\\pyramid\n",
      "  copying pyramid\\setup.py -> build\\lib.win-amd64-3.9\\pyramid\n",
      "  copying pyramid\\_config.py -> build\\lib.win-amd64-3.9\\pyramid\n",
      "  copying pyramid\\__init__.py -> build\\lib.win-amd64-3.9\\pyramid\n",
      "  creating build\\lib.win-amd64-3.9\\pyramid\\__check_build\n",
      "  copying pyramid\\__check_build\\setup.py -> build\\lib.win-amd64-3.9\\pyramid\\__check_build\n",
      "  copying pyramid\\__check_build\\__init__.py -> build\\lib.win-amd64-3.9\\pyramid\\__check_build\n",
      "  creating build\\lib.win-amd64-3.9\\pyramid\\__check_build\\tests\n",
      "  copying pyramid\\__check_build\\tests\\test_check_build.py -> build\\lib.win-amd64-3.9\\pyramid\\__check_build/tests\n",
      "  copying pyramid\\__check_build\\tests\\__init__.py -> build\\lib.win-amd64-3.9\\pyramid\\__check_build/tests\n",
      "  creating build\\lib.win-amd64-3.9\\pyramid\\_build_utils\n",
      "  copying pyramid\\_build_utils\\__init__.py -> build\\lib.win-amd64-3.9\\pyramid\\_build_utils\n",
      "  creating build\\lib.win-amd64-3.9\\pyramid\\_build_utils\\tests\n",
      "  copying pyramid\\_build_utils\\tests\\__init__.py -> build\\lib.win-amd64-3.9\\pyramid\\_build_utils/tests\n",
      "  creating build\\lib.win-amd64-3.9\\pyramid\\compat\n",
      "  copying pyramid\\compat\\matplotlib.py -> build\\lib.win-amd64-3.9\\pyramid\\compat\n",
      "  copying pyramid\\compat\\numpy.py -> build\\lib.win-amd64-3.9\\pyramid\\compat\n",
      "  copying pyramid\\compat\\pandas.py -> build\\lib.win-amd64-3.9\\pyramid\\compat\n",
      "  copying pyramid\\compat\\python.py -> build\\lib.win-amd64-3.9\\pyramid\\compat\n",
      "  copying pyramid\\compat\\__init__.py -> build\\lib.win-amd64-3.9\\pyramid\\compat\n",
      "  creating build\\lib.win-amd64-3.9\\pyramid\\compat\\tests\n",
      "  copying pyramid\\compat\\tests\\test_compat.py -> build\\lib.win-amd64-3.9\\pyramid\\compat/tests\n",
      "  copying pyramid\\compat\\tests\\__init__.py -> build\\lib.win-amd64-3.9\\pyramid\\compat/tests\n",
      "  creating build\\lib.win-amd64-3.9\\pyramid\\datasets\n",
      "  copying pyramid\\datasets\\heartrate.py -> build\\lib.win-amd64-3.9\\pyramid\\datasets\n",
      "  copying pyramid\\datasets\\lynx.py -> build\\lib.win-amd64-3.9\\pyramid\\datasets\n",
      "  copying pyramid\\datasets\\wineind.py -> build\\lib.win-amd64-3.9\\pyramid\\datasets\n",
      "  copying pyramid\\datasets\\woolyrnq.py -> build\\lib.win-amd64-3.9\\pyramid\\datasets\n",
      "  copying pyramid\\datasets\\__init__.py -> build\\lib.win-amd64-3.9\\pyramid\\datasets\n",
      "  creating build\\lib.win-amd64-3.9\\pyramid\\utils\n",
      "  copying pyramid\\utils\\array.py -> build\\lib.win-amd64-3.9\\pyramid\\utils\n",
      "  copying pyramid\\utils\\metaestimators.py -> build\\lib.win-amd64-3.9\\pyramid\\utils\n",
      "  copying pyramid\\utils\\testing.py -> build\\lib.win-amd64-3.9\\pyramid\\utils\n",
      "  copying pyramid\\utils\\visualization.py -> build\\lib.win-amd64-3.9\\pyramid\\utils\n",
      "  copying pyramid\\utils\\wrapped.py -> build\\lib.win-amd64-3.9\\pyramid\\utils\n",
      "  copying pyramid\\utils\\__init__.py -> build\\lib.win-amd64-3.9\\pyramid\\utils\n",
      "  creating build\\lib.win-amd64-3.9\\pyramid\\utils\\tests\n",
      "  copying pyramid\\utils\\tests\\test_array.py -> build\\lib.win-amd64-3.9\\pyramid\\utils/tests\n",
      "  copying pyramid\\utils\\tests\\test_meta.py -> build\\lib.win-amd64-3.9\\pyramid\\utils/tests\n",
      "  copying pyramid\\utils\\tests\\test_testing.py -> build\\lib.win-amd64-3.9\\pyramid\\utils/tests\n",
      "  copying pyramid\\utils\\tests\\test_vis.py -> build\\lib.win-amd64-3.9\\pyramid\\utils/tests\n",
      "  copying pyramid\\utils\\tests\\test_wrapped.py -> build\\lib.win-amd64-3.9\\pyramid\\utils/tests\n",
      "  copying pyramid\\utils\\tests\\__init__.py -> build\\lib.win-amd64-3.9\\pyramid\\utils/tests\n",
      "  creating build\\lib.win-amd64-3.9\\pyramid\\arima\n",
      "  copying pyramid\\arima\\approx.py -> build\\lib.win-amd64-3.9\\pyramid\\arima\n",
      "  copying pyramid\\arima\\arima.py -> build\\lib.win-amd64-3.9\\pyramid\\arima\n",
      "  copying pyramid\\arima\\auto.py -> build\\lib.win-amd64-3.9\\pyramid\\arima\n",
      "  copying pyramid\\arima\\seasonality.py -> build\\lib.win-amd64-3.9\\pyramid\\arima\n",
      "  copying pyramid\\arima\\setup.py -> build\\lib.win-amd64-3.9\\pyramid\\arima\n",
      "  copying pyramid\\arima\\stationarity.py -> build\\lib.win-amd64-3.9\\pyramid\\arima\n",
      "  copying pyramid\\arima\\utils.py -> build\\lib.win-amd64-3.9\\pyramid\\arima\n",
      "  copying pyramid\\arima\\warnings.py -> build\\lib.win-amd64-3.9\\pyramid\\arima\n",
      "  copying pyramid\\arima\\__init__.py -> build\\lib.win-amd64-3.9\\pyramid\\arima\n",
      "  creating build\\lib.win-amd64-3.9\\pyramid\\arima\\tests\n",
      "  copying pyramid\\arima\\tests\\test_approx.py -> build\\lib.win-amd64-3.9\\pyramid\\arima\\tests\n",
      "  copying pyramid\\arima\\tests\\test_arima.py -> build\\lib.win-amd64-3.9\\pyramid\\arima\\tests\n",
      "  copying pyramid\\arima\\tests\\test_c_arima.py -> build\\lib.win-amd64-3.9\\pyramid\\arima\\tests\n",
      "  copying pyramid\\arima\\tests\\test_stationarity.py -> build\\lib.win-amd64-3.9\\pyramid\\arima\\tests\n",
      "  copying pyramid\\arima\\tests\\__init__.py -> build\\lib.win-amd64-3.9\\pyramid\\arima\\tests\n",
      "  running build_ext\n",
      "  No module named 'numpy.distutils._msvccompiler' in numpy.distutils; trying from distutils\n",
      "  customize MSVCCompiler\n",
      "  customize MSVCCompiler using build_ext\n",
      "  CCompilerOpt.cc_test_flags[1013] : testing flags (/O2)\n",
      "  error: Microsoft Visual C++ 14.0 or greater is required. Get it with \"Microsoft C++ Build Tools\": https://visualstudio.microsoft.com/visual-cpp-build-tools/\n",
      "  CCompilerOpt.cache_flush[809] : write cache to path -> C:\\Users\\L\\AppData\\Local\\Temp\\pip-install-3zxrmmqz\\pyramid-arima_a204c73598464a36886e904fc95e55d7\\build\\temp.win-amd64-3.9\\Release\\ccompiler_opt_cache_ext.py\n",
      "  ----------------------------------------\n",
      "  ERROR: Failed building wheel for pyramid-arima\n",
      "    ERROR: Command errored out with exit status 1:\n",
      "     command: 'C:\\Users\\L\\anaconda3\\python.exe' -u -c 'import io, os, sys, setuptools, tokenize; sys.argv[0] = '\"'\"'C:\\\\Users\\\\L\\\\AppData\\\\Local\\\\Temp\\\\pip-install-3zxrmmqz\\\\pyramid-arima_a204c73598464a36886e904fc95e55d7\\\\setup.py'\"'\"'; __file__='\"'\"'C:\\\\Users\\\\L\\\\AppData\\\\Local\\\\Temp\\\\pip-install-3zxrmmqz\\\\pyramid-arima_a204c73598464a36886e904fc95e55d7\\\\setup.py'\"'\"';f = getattr(tokenize, '\"'\"'open'\"'\"', open)(__file__) if os.path.exists(__file__) else io.StringIO('\"'\"'from setuptools import setup; setup()'\"'\"');code = f.read().replace('\"'\"'\\r\\n'\"'\"', '\"'\"'\\n'\"'\"');f.close();exec(compile(code, __file__, '\"'\"'exec'\"'\"'))' install --record 'C:\\Users\\L\\AppData\\Local\\Temp\\pip-record-5tj1_b1w\\install-record.txt' --single-version-externally-managed --compile --install-headers 'C:\\Users\\L\\anaconda3\\Include\\pyramid-arima'\n",
      "         cwd: C:\\Users\\L\\AppData\\Local\\Temp\\pip-install-3zxrmmqz\\pyramid-arima_a204c73598464a36886e904fc95e55d7\\\n",
      "    Complete output (176 lines):\n",
      "    Partial import of pyramid during the build process.\n",
      "    \n",
      "    Requirements: ['Cython>=0.23\\nnumpy>=1.10\\nscipy>=0.9\\nscikit-learn>=0.17\\npandas>=0.19\\nstatsmodels>=0.9.0\\n']\n",
      "    Adding extra setuptools args\n",
      "    C:\\Users\\L\\anaconda3\\lib\\site-packages\\setuptools\\dist.py:757: UserWarning: Usage of dash-separated 'description-file' will not be supported in future versions. Please use the underscore name 'description_file' instead\n",
      "      warnings.warn(\n",
      "    blas_opt_info:\n",
      "    blas_mkl_info:\n",
      "    No module named 'numpy.distutils._msvccompiler' in numpy.distutils; trying from distutils\n",
      "    customize MSVCCompiler\n",
      "      libraries mkl_rt not found in ['C:/Users/L/anaconda3\\\\Library\\\\lib']\n",
      "      NOT AVAILABLE\n",
      "    \n",
      "    blis_info:\n",
      "      libraries blis not found in ['C:\\\\Users\\\\L\\\\anaconda3\\\\lib', 'C:\\\\', 'C:\\\\Users\\\\L\\\\anaconda3\\\\libs']\n",
      "      NOT AVAILABLE\n",
      "    \n",
      "    openblas_info:\n",
      "      libraries openblas not found in ['C:\\\\Users\\\\L\\\\anaconda3\\\\lib', 'C:\\\\', 'C:\\\\Users\\\\L\\\\anaconda3\\\\libs']\n",
      "    get_default_fcompiler: matching types: '['gnu', 'intelv', 'absoft', 'compaqv', 'intelev', 'gnu95', 'g95', 'intelvem', 'intelem', 'flang']'\n",
      "    customize GnuFCompiler\n",
      "    Could not locate executable g77\n",
      "    Could not locate executable f77\n",
      "    customize IntelVisualFCompiler\n",
      "    Could not locate executable ifort\n",
      "    Could not locate executable ifl\n",
      "    customize AbsoftFCompiler\n",
      "    Could not locate executable f90\n",
      "    customize CompaqVisualFCompiler\n",
      "    Could not locate executable DF\n",
      "    customize IntelItaniumVisualFCompiler\n",
      "    Could not locate executable efl\n",
      "    customize Gnu95FCompiler\n",
      "    Could not locate executable gfortran\n",
      "    Could not locate executable f95\n",
      "    customize G95FCompiler\n",
      "    Could not locate executable g95\n",
      "    customize IntelEM64VisualFCompiler\n",
      "    customize IntelEM64TFCompiler\n",
      "    Could not locate executable efort\n",
      "    Could not locate executable efc\n",
      "    customize PGroupFlangCompiler\n",
      "    Could not locate executable flang\n",
      "    don't know how to compile Fortran code on platform 'nt'\n",
      "      NOT AVAILABLE\n",
      "    \n",
      "    accelerate_info:\n",
      "      NOT AVAILABLE\n",
      "    \n",
      "    atlas_3_10_blas_threads_info:\n",
      "    Setting PTATLAS=ATLAS\n",
      "      libraries tatlas not found in ['C:\\\\Users\\\\L\\\\anaconda3\\\\lib', 'C:\\\\', 'C:\\\\Users\\\\L\\\\anaconda3\\\\libs']\n",
      "      NOT AVAILABLE\n",
      "    \n",
      "    atlas_3_10_blas_info:\n",
      "      libraries satlas not found in ['C:\\\\Users\\\\L\\\\anaconda3\\\\lib', 'C:\\\\', 'C:\\\\Users\\\\L\\\\anaconda3\\\\libs']\n",
      "      NOT AVAILABLE\n",
      "    \n",
      "    atlas_blas_threads_info:\n",
      "    Setting PTATLAS=ATLAS\n",
      "      libraries ptf77blas,ptcblas,atlas not found in ['C:\\\\Users\\\\L\\\\anaconda3\\\\lib', 'C:\\\\', 'C:\\\\Users\\\\L\\\\anaconda3\\\\libs']\n",
      "      NOT AVAILABLE\n",
      "    \n",
      "    atlas_blas_info:\n",
      "      libraries f77blas,cblas,atlas not found in ['C:\\\\Users\\\\L\\\\anaconda3\\\\lib', 'C:\\\\', 'C:\\\\Users\\\\L\\\\anaconda3\\\\libs']\n",
      "      NOT AVAILABLE\n",
      "    \n",
      "    C:\\Users\\L\\anaconda3\\lib\\site-packages\\numpy\\distutils\\system_info.py:2026: UserWarning:\n",
      "        Optimized (vendor) Blas libraries are not found.\n",
      "        Falls back to netlib Blas library which has worse performance.\n",
      "        A better performance should be easily gained by switching\n",
      "        Blas library.\n",
      "      if self._calc_info(blas):\n",
      "    blas_info:\n",
      "      libraries blas not found in ['C:\\\\Users\\\\L\\\\anaconda3\\\\lib', 'C:\\\\', 'C:\\\\Users\\\\L\\\\anaconda3\\\\libs']\n",
      "      NOT AVAILABLE\n",
      "    \n",
      "    C:\\Users\\L\\anaconda3\\lib\\site-packages\\numpy\\distutils\\system_info.py:2026: UserWarning:\n",
      "        Blas (http://www.netlib.org/blas/) libraries not found.\n",
      "        Directories to search for the libraries can be specified in the\n",
      "        numpy/distutils/site.cfg file (section [blas]) or by setting\n",
      "        the BLAS environment variable.\n",
      "      if self._calc_info(blas):\n",
      "    blas_src_info:\n",
      "      NOT AVAILABLE\n",
      "    \n",
      "    C:\\Users\\L\\anaconda3\\lib\\site-packages\\numpy\\distutils\\system_info.py:2026: UserWarning:\n",
      "        Blas (http://www.netlib.org/blas/) sources not found.\n",
      "        Directories to search for the sources can be specified in the\n",
      "        numpy/distutils/site.cfg file (section [blas_src]) or by setting\n",
      "        the BLAS_SRC environment variable.\n",
      "      if self._calc_info(blas):\n"
     ]
    },
    {
     "name": "stderr",
     "output_type": "stream",
     "text": [
      "      NOT AVAILABLE\n",
      "    \n",
      "    running install\n",
      "    C:\\Users\\L\\anaconda3\\lib\\site-packages\\setuptools\\command\\install.py:34: SetuptoolsDeprecationWarning: setup.py install is deprecated. Use build and pip and other standards-based tools.\n",
      "      warnings.warn(\n",
      "    running build\n",
      "    running config_cc\n",
      "    unifing config_cc, config, build_clib, build_ext, build commands --compiler options\n",
      "    running config_fc\n",
      "    unifing config_fc, config, build_clib, build_ext, build commands --fcompiler options\n",
      "    running build_src\n",
      "    build_src\n",
      "    building extension \"pyramid.__check_build._check_build\" sources\n",
      "    building extension \"pyramid.arima._arima\" sources\n",
      "    build_src: building npy-pkg config files\n",
      "    running build_py\n",
      "    creating build\n",
      "    creating build\\lib.win-amd64-3.9\n",
      "    creating build\\lib.win-amd64-3.9\\pyramid\n",
      "    copying pyramid\\setup.py -> build\\lib.win-amd64-3.9\\pyramid\n",
      "    copying pyramid\\_config.py -> build\\lib.win-amd64-3.9\\pyramid\n",
      "    copying pyramid\\__init__.py -> build\\lib.win-amd64-3.9\\pyramid\n",
      "    creating build\\lib.win-amd64-3.9\\pyramid\\__check_build\n",
      "    copying pyramid\\__check_build\\setup.py -> build\\lib.win-amd64-3.9\\pyramid\\__check_build\n",
      "    copying pyramid\\__check_build\\__init__.py -> build\\lib.win-amd64-3.9\\pyramid\\__check_build\n",
      "    creating build\\lib.win-amd64-3.9\\pyramid\\__check_build\\tests\n",
      "    copying pyramid\\__check_build\\tests\\test_check_build.py -> build\\lib.win-amd64-3.9\\pyramid\\__check_build/tests\n",
      "    copying pyramid\\__check_build\\tests\\__init__.py -> build\\lib.win-amd64-3.9\\pyramid\\__check_build/tests\n",
      "    creating build\\lib.win-amd64-3.9\\pyramid\\_build_utils\n",
      "    copying pyramid\\_build_utils\\__init__.py -> build\\lib.win-amd64-3.9\\pyramid\\_build_utils\n",
      "    creating build\\lib.win-amd64-3.9\\pyramid\\_build_utils\\tests\n",
      "    copying pyramid\\_build_utils\\tests\\__init__.py -> build\\lib.win-amd64-3.9\\pyramid\\_build_utils/tests\n",
      "    creating build\\lib.win-amd64-3.9\\pyramid\\compat\n",
      "    copying pyramid\\compat\\matplotlib.py -> build\\lib.win-amd64-3.9\\pyramid\\compat\n",
      "    copying pyramid\\compat\\numpy.py -> build\\lib.win-amd64-3.9\\pyramid\\compat\n",
      "    copying pyramid\\compat\\pandas.py -> build\\lib.win-amd64-3.9\\pyramid\\compat\n",
      "    copying pyramid\\compat\\python.py -> build\\lib.win-amd64-3.9\\pyramid\\compat\n",
      "    copying pyramid\\compat\\__init__.py -> build\\lib.win-amd64-3.9\\pyramid\\compat\n",
      "    creating build\\lib.win-amd64-3.9\\pyramid\\compat\\tests\n",
      "    copying pyramid\\compat\\tests\\test_compat.py -> build\\lib.win-amd64-3.9\\pyramid\\compat/tests\n",
      "    copying pyramid\\compat\\tests\\__init__.py -> build\\lib.win-amd64-3.9\\pyramid\\compat/tests\n",
      "    creating build\\lib.win-amd64-3.9\\pyramid\\datasets\n",
      "    copying pyramid\\datasets\\heartrate.py -> build\\lib.win-amd64-3.9\\pyramid\\datasets\n",
      "    copying pyramid\\datasets\\lynx.py -> build\\lib.win-amd64-3.9\\pyramid\\datasets\n",
      "    copying pyramid\\datasets\\wineind.py -> build\\lib.win-amd64-3.9\\pyramid\\datasets\n",
      "    copying pyramid\\datasets\\woolyrnq.py -> build\\lib.win-amd64-3.9\\pyramid\\datasets\n",
      "    copying pyramid\\datasets\\__init__.py -> build\\lib.win-amd64-3.9\\pyramid\\datasets\n",
      "    creating build\\lib.win-amd64-3.9\\pyramid\\utils\n",
      "    copying pyramid\\utils\\array.py -> build\\lib.win-amd64-3.9\\pyramid\\utils\n",
      "    copying pyramid\\utils\\metaestimators.py -> build\\lib.win-amd64-3.9\\pyramid\\utils\n",
      "    copying pyramid\\utils\\testing.py -> build\\lib.win-amd64-3.9\\pyramid\\utils\n",
      "    copying pyramid\\utils\\visualization.py -> build\\lib.win-amd64-3.9\\pyramid\\utils\n",
      "    copying pyramid\\utils\\wrapped.py -> build\\lib.win-amd64-3.9\\pyramid\\utils\n",
      "    copying pyramid\\utils\\__init__.py -> build\\lib.win-amd64-3.9\\pyramid\\utils\n",
      "    creating build\\lib.win-amd64-3.9\\pyramid\\utils\\tests\n",
      "    copying pyramid\\utils\\tests\\test_array.py -> build\\lib.win-amd64-3.9\\pyramid\\utils/tests\n",
      "    copying pyramid\\utils\\tests\\test_meta.py -> build\\lib.win-amd64-3.9\\pyramid\\utils/tests\n",
      "    copying pyramid\\utils\\tests\\test_testing.py -> build\\lib.win-amd64-3.9\\pyramid\\utils/tests\n",
      "    copying pyramid\\utils\\tests\\test_vis.py -> build\\lib.win-amd64-3.9\\pyramid\\utils/tests\n",
      "    copying pyramid\\utils\\tests\\test_wrapped.py -> build\\lib.win-amd64-3.9\\pyramid\\utils/tests\n",
      "    copying pyramid\\utils\\tests\\__init__.py -> build\\lib.win-amd64-3.9\\pyramid\\utils/tests\n",
      "    creating build\\lib.win-amd64-3.9\\pyramid\\arima\n",
      "    copying pyramid\\arima\\approx.py -> build\\lib.win-amd64-3.9\\pyramid\\arima\n",
      "    copying pyramid\\arima\\arima.py -> build\\lib.win-amd64-3.9\\pyramid\\arima\n",
      "    copying pyramid\\arima\\auto.py -> build\\lib.win-amd64-3.9\\pyramid\\arima\n",
      "    copying pyramid\\arima\\seasonality.py -> build\\lib.win-amd64-3.9\\pyramid\\arima\n",
      "    copying pyramid\\arima\\setup.py -> build\\lib.win-amd64-3.9\\pyramid\\arima\n",
      "    copying pyramid\\arima\\stationarity.py -> build\\lib.win-amd64-3.9\\pyramid\\arima\n",
      "    copying pyramid\\arima\\utils.py -> build\\lib.win-amd64-3.9\\pyramid\\arima\n",
      "    copying pyramid\\arima\\warnings.py -> build\\lib.win-amd64-3.9\\pyramid\\arima\n",
      "    copying pyramid\\arima\\__init__.py -> build\\lib.win-amd64-3.9\\pyramid\\arima\n",
      "    creating build\\lib.win-amd64-3.9\\pyramid\\arima\\tests\n",
      "    copying pyramid\\arima\\tests\\test_approx.py -> build\\lib.win-amd64-3.9\\pyramid\\arima\\tests\n",
      "    copying pyramid\\arima\\tests\\test_arima.py -> build\\lib.win-amd64-3.9\\pyramid\\arima\\tests\n",
      "    copying pyramid\\arima\\tests\\test_c_arima.py -> build\\lib.win-amd64-3.9\\pyramid\\arima\\tests\n",
      "    copying pyramid\\arima\\tests\\test_stationarity.py -> build\\lib.win-amd64-3.9\\pyramid\\arima\\tests\n",
      "    copying pyramid\\arima\\tests\\__init__.py -> build\\lib.win-amd64-3.9\\pyramid\\arima\\tests\n",
      "    running build_ext\n",
      "    No module named 'numpy.distutils._msvccompiler' in numpy.distutils; trying from distutils\n",
      "    customize MSVCCompiler\n",
      "    customize MSVCCompiler using build_ext\n",
      "    CCompilerOpt.cc_test_flags[1013] : testing flags (/O2)\n",
      "    error: Microsoft Visual C++ 14.0 or greater is required. Get it with \"Microsoft C++ Build Tools\": https://visualstudio.microsoft.com/visual-cpp-build-tools/\n",
      "    CCompilerOpt.cache_flush[809] : write cache to path -> C:\\Users\\L\\AppData\\Local\\Temp\\pip-install-3zxrmmqz\\pyramid-arima_a204c73598464a36886e904fc95e55d7\\build\\temp.win-amd64-3.9\\Release\\ccompiler_opt_cache_ext.py\n",
      "    ----------------------------------------\n",
      "ERROR: Command errored out with exit status 1: 'C:\\Users\\L\\anaconda3\\python.exe' -u -c 'import io, os, sys, setuptools, tokenize; sys.argv[0] = '\"'\"'C:\\\\Users\\\\L\\\\AppData\\\\Local\\\\Temp\\\\pip-install-3zxrmmqz\\\\pyramid-arima_a204c73598464a36886e904fc95e55d7\\\\setup.py'\"'\"'; __file__='\"'\"'C:\\\\Users\\\\L\\\\AppData\\\\Local\\\\Temp\\\\pip-install-3zxrmmqz\\\\pyramid-arima_a204c73598464a36886e904fc95e55d7\\\\setup.py'\"'\"';f = getattr(tokenize, '\"'\"'open'\"'\"', open)(__file__) if os.path.exists(__file__) else io.StringIO('\"'\"'from setuptools import setup; setup()'\"'\"');code = f.read().replace('\"'\"'\\r\\n'\"'\"', '\"'\"'\\n'\"'\"');f.close();exec(compile(code, __file__, '\"'\"'exec'\"'\"'))' install --record 'C:\\Users\\L\\AppData\\Local\\Temp\\pip-record-5tj1_b1w\\install-record.txt' --single-version-externally-managed --compile --install-headers 'C:\\Users\\L\\anaconda3\\Include\\pyramid-arima' Check the logs for full command output.\n"
     ]
    }
   ],
   "source": [
    "pip install pyramid-arima"
   ]
  },
  {
   "cell_type": "code",
   "execution_count": 5,
   "metadata": {},
   "outputs": [],
   "source": [
    "df = pd.read_csv('AirPassengers.csv')"
   ]
  },
  {
   "cell_type": "code",
   "execution_count": 6,
   "metadata": {},
   "outputs": [
    {
     "data": {
      "text/html": [
       "<div>\n",
       "<style scoped>\n",
       "    .dataframe tbody tr th:only-of-type {\n",
       "        vertical-align: middle;\n",
       "    }\n",
       "\n",
       "    .dataframe tbody tr th {\n",
       "        vertical-align: top;\n",
       "    }\n",
       "\n",
       "    .dataframe thead th {\n",
       "        text-align: right;\n",
       "    }\n",
       "</style>\n",
       "<table border=\"1\" class=\"dataframe\">\n",
       "  <thead>\n",
       "    <tr style=\"text-align: right;\">\n",
       "      <th></th>\n",
       "      <th>date</th>\n",
       "      <th>value</th>\n",
       "    </tr>\n",
       "  </thead>\n",
       "  <tbody>\n",
       "    <tr>\n",
       "      <th>0</th>\n",
       "      <td>1949-01-01</td>\n",
       "      <td>112</td>\n",
       "    </tr>\n",
       "    <tr>\n",
       "      <th>1</th>\n",
       "      <td>1949-02-01</td>\n",
       "      <td>118</td>\n",
       "    </tr>\n",
       "    <tr>\n",
       "      <th>2</th>\n",
       "      <td>1949-03-01</td>\n",
       "      <td>132</td>\n",
       "    </tr>\n",
       "    <tr>\n",
       "      <th>3</th>\n",
       "      <td>1949-04-01</td>\n",
       "      <td>129</td>\n",
       "    </tr>\n",
       "    <tr>\n",
       "      <th>4</th>\n",
       "      <td>1949-05-01</td>\n",
       "      <td>121</td>\n",
       "    </tr>\n",
       "    <tr>\n",
       "      <th>...</th>\n",
       "      <td>...</td>\n",
       "      <td>...</td>\n",
       "    </tr>\n",
       "    <tr>\n",
       "      <th>139</th>\n",
       "      <td>1960-08-01</td>\n",
       "      <td>606</td>\n",
       "    </tr>\n",
       "    <tr>\n",
       "      <th>140</th>\n",
       "      <td>1960-09-01</td>\n",
       "      <td>508</td>\n",
       "    </tr>\n",
       "    <tr>\n",
       "      <th>141</th>\n",
       "      <td>1960-10-01</td>\n",
       "      <td>461</td>\n",
       "    </tr>\n",
       "    <tr>\n",
       "      <th>142</th>\n",
       "      <td>1960-11-01</td>\n",
       "      <td>390</td>\n",
       "    </tr>\n",
       "    <tr>\n",
       "      <th>143</th>\n",
       "      <td>1960-12-01</td>\n",
       "      <td>432</td>\n",
       "    </tr>\n",
       "  </tbody>\n",
       "</table>\n",
       "<p>144 rows × 2 columns</p>\n",
       "</div>"
      ],
      "text/plain": [
       "           date  value\n",
       "0    1949-01-01    112\n",
       "1    1949-02-01    118\n",
       "2    1949-03-01    132\n",
       "3    1949-04-01    129\n",
       "4    1949-05-01    121\n",
       "..          ...    ...\n",
       "139  1960-08-01    606\n",
       "140  1960-09-01    508\n",
       "141  1960-10-01    461\n",
       "142  1960-11-01    390\n",
       "143  1960-12-01    432\n",
       "\n",
       "[144 rows x 2 columns]"
      ]
     },
     "execution_count": 6,
     "metadata": {},
     "output_type": "execute_result"
    }
   ],
   "source": [
    "df"
   ]
  },
  {
   "cell_type": "code",
   "execution_count": 7,
   "metadata": {},
   "outputs": [
    {
     "data": {
      "text/plain": [
       "<AxesSubplot:xlabel='date'>"
      ]
     },
     "execution_count": 7,
     "metadata": {},
     "output_type": "execute_result"
    },
    {
     "data": {
      "image/png": "[encoded data removed]",
      "text/plain": [
       "<Figure size 1080x216 with 1 Axes>"
      ]
     },
     "metadata": {
      "needs_background": "light"
     },
     "output_type": "display_data"
    }
   ],
   "source": [
    "df.plot.line(x = 'date',y = 'value',figsize=(15,3))"
   ]
  },
  {
   "cell_type": "markdown",
   "metadata": {},
   "source": [
    "# Stationary  -- ADF Test "
   ]
  },
  {
   "cell_type": "markdown",
   "metadata": {},
   "source": [
    "* H0 : - The data is  non-stationary\n",
    "* H1 : - The data is  stationary\n",
    "\n",
    "* Alpha = 0.05 \n"
   ]
  },
  {
   "cell_type": "code",
   "execution_count": 27,
   "metadata": {},
   "outputs": [
    {
     "data": {
      "text/plain": [
       "Test Statistic                   0.815369\n",
       "p-value                          0.991880\n",
       "#lags used                      13.000000\n",
       "number of observations used    130.000000\n",
       "dtype: float64"
      ]
     },
     "execution_count": 27,
     "metadata": {},
     "output_type": "execute_result"
    }
   ],
   "source": [
    "from statsmodels.tsa.stattools import adfuller\n",
    "dftest = adfuller(df['value'])\n",
    "dfoutput=pd.Series(dftest[0:4],index=['Test Statistic','p-value','#lags used','number of observations used'])\n",
    "dfoutput"
   ]
  },
  {
   "cell_type": "markdown",
   "metadata": {},
   "source": [
    "* we do not Reject Ho\n",
    "* The data is  non-stationary"
   ]
  },
  {
   "cell_type": "markdown",
   "metadata": {},
   "source": [
    "# Differencing  ( d )"
   ]
  },
  {
   "cell_type": "code",
   "execution_count": 11,
   "metadata": {},
   "outputs": [
    {
     "data": {
      "image/png": "[encoded data removed]",
      "text/plain": [
       "<Figure size 432x288 with 1 Axes>"
      ]
     },
     "metadata": {
      "needs_background": "light"
     },
     "output_type": "display_data"
    }
   ],
   "source": [
    "from matplotlib import pyplot\n",
    "\n",
    "diff = df.value.diff()\n",
    "pyplot.plot(diff)\n",
    "pyplot.show()"
   ]
  },
  {
   "cell_type": "code",
   "execution_count": 12,
   "metadata": {},
   "outputs": [
    {
     "data": {
      "text/html": [
       "<div>\n",
       "<style scoped>\n",
       "    .dataframe tbody tr th:only-of-type {\n",
       "        vertical-align: middle;\n",
       "    }\n",
       "\n",
       "    .dataframe tbody tr th {\n",
       "        vertical-align: top;\n",
       "    }\n",
       "\n",
       "    .dataframe thead th {\n",
       "        text-align: right;\n",
       "    }\n",
       "</style>\n",
       "<table border=\"1\" class=\"dataframe\">\n",
       "  <thead>\n",
       "    <tr style=\"text-align: right;\">\n",
       "      <th></th>\n",
       "      <th>date</th>\n",
       "      <th>value</th>\n",
       "      <th>diff_1</th>\n",
       "      <th>diff_2</th>\n",
       "    </tr>\n",
       "  </thead>\n",
       "  <tbody>\n",
       "    <tr>\n",
       "      <th>0</th>\n",
       "      <td>1949-01-01</td>\n",
       "      <td>112</td>\n",
       "      <td>NaN</td>\n",
       "      <td>NaN</td>\n",
       "    </tr>\n",
       "    <tr>\n",
       "      <th>1</th>\n",
       "      <td>1949-02-01</td>\n",
       "      <td>118</td>\n",
       "      <td>6.0</td>\n",
       "      <td>NaN</td>\n",
       "    </tr>\n",
       "    <tr>\n",
       "      <th>2</th>\n",
       "      <td>1949-03-01</td>\n",
       "      <td>132</td>\n",
       "      <td>14.0</td>\n",
       "      <td>20.0</td>\n",
       "    </tr>\n",
       "    <tr>\n",
       "      <th>3</th>\n",
       "      <td>1949-04-01</td>\n",
       "      <td>129</td>\n",
       "      <td>-3.0</td>\n",
       "      <td>11.0</td>\n",
       "    </tr>\n",
       "    <tr>\n",
       "      <th>4</th>\n",
       "      <td>1949-05-01</td>\n",
       "      <td>121</td>\n",
       "      <td>-8.0</td>\n",
       "      <td>-11.0</td>\n",
       "    </tr>\n",
       "    <tr>\n",
       "      <th>...</th>\n",
       "      <td>...</td>\n",
       "      <td>...</td>\n",
       "      <td>...</td>\n",
       "      <td>...</td>\n",
       "    </tr>\n",
       "    <tr>\n",
       "      <th>139</th>\n",
       "      <td>1960-08-01</td>\n",
       "      <td>606</td>\n",
       "      <td>-16.0</td>\n",
       "      <td>71.0</td>\n",
       "    </tr>\n",
       "    <tr>\n",
       "      <th>140</th>\n",
       "      <td>1960-09-01</td>\n",
       "      <td>508</td>\n",
       "      <td>-98.0</td>\n",
       "      <td>-114.0</td>\n",
       "    </tr>\n",
       "    <tr>\n",
       "      <th>141</th>\n",
       "      <td>1960-10-01</td>\n",
       "      <td>461</td>\n",
       "      <td>-47.0</td>\n",
       "      <td>-145.0</td>\n",
       "    </tr>\n",
       "    <tr>\n",
       "      <th>142</th>\n",
       "      <td>1960-11-01</td>\n",
       "      <td>390</td>\n",
       "      <td>-71.0</td>\n",
       "      <td>-118.0</td>\n",
       "    </tr>\n",
       "    <tr>\n",
       "      <th>143</th>\n",
       "      <td>1960-12-01</td>\n",
       "      <td>432</td>\n",
       "      <td>42.0</td>\n",
       "      <td>-29.0</td>\n",
       "    </tr>\n",
       "  </tbody>\n",
       "</table>\n",
       "<p>144 rows × 4 columns</p>\n",
       "</div>"
      ],
      "text/plain": [
       "           date  value  diff_1  diff_2\n",
       "0    1949-01-01    112     NaN     NaN\n",
       "1    1949-02-01    118     6.0     NaN\n",
       "2    1949-03-01    132    14.0    20.0\n",
       "3    1949-04-01    129    -3.0    11.0\n",
       "4    1949-05-01    121    -8.0   -11.0\n",
       "..          ...    ...     ...     ...\n",
       "139  1960-08-01    606   -16.0    71.0\n",
       "140  1960-09-01    508   -98.0  -114.0\n",
       "141  1960-10-01    461   -47.0  -145.0\n",
       "142  1960-11-01    390   -71.0  -118.0\n",
       "143  1960-12-01    432    42.0   -29.0\n",
       "\n",
       "[144 rows x 4 columns]"
      ]
     },
     "execution_count": 12,
     "metadata": {},
     "output_type": "execute_result"
    }
   ],
   "source": [
    "df['diff_1'] = df['value'].diff()\n",
    "df['diff_2'] = df['value'].diff(periods=2)\n",
    "df"
   ]
  },
  {
   "cell_type": "code",
   "execution_count": 13,
   "metadata": {},
   "outputs": [
    {
     "data": {
      "text/plain": [
       "value     14291.973331\n",
       "diff_1     1131.384029\n",
       "diff_2     2957.492561\n",
       "dtype: float64"
      ]
     },
     "execution_count": 13,
     "metadata": {},
     "output_type": "execute_result"
    }
   ],
   "source": [
    "import numpy as np\n",
    "np.var(df)"
   ]
  },
  {
   "cell_type": "code",
   "execution_count": 14,
   "metadata": {
    "scrolled": true
   },
   "outputs": [
    {
     "name": "stdout",
     "output_type": "stream",
     "text": [
      "Observations of Dickey-fuller test\n"
     ]
    },
    {
     "data": {
      "text/plain": [
       "Test Statistic                  -2.829267\n",
       "p-value                          0.054213\n",
       "#lags used                      12.000000\n",
       "number of observations used    130.000000\n",
       "dtype: float64"
      ]
     },
     "execution_count": 14,
     "metadata": {},
     "output_type": "execute_result"
    }
   ],
   "source": [
    "from statsmodels.tsa.stattools import adfuller\n",
    "print(\"Observations of Dickey-fuller test\")\n",
    "dftest = adfuller(df.diff_1.loc[1:,])\n",
    "dfoutput=pd.Series(dftest[0:4],index=['Test Statistic','p-value','#lags used','number of observations used'])\n",
    "dfoutput"
   ]
  },
  {
   "cell_type": "markdown",
   "metadata": {},
   "source": [
    "* we Reject Ho\n",
    "* The data is stationary"
   ]
  },
  {
   "cell_type": "markdown",
   "metadata": {},
   "source": [
    "# ACF & PACF Plot"
   ]
  },
  {
   "cell_type": "code",
   "execution_count": 15,
   "metadata": {},
   "outputs": [
    {
     "data": {
      "image/png": "[encoded data removed]",
      "text/plain": [
       "<Figure size 1296x720 with 2 Axes>"
      ]
     },
     "metadata": {
      "needs_background": "light"
     },
     "output_type": "display_data"
    }
   ],
   "source": [
    "f, ax = plt.subplots(nrows=2, ncols=1, figsize=(18, 10))\n",
    "plot_acf(df['value'],lags=100, ax=ax[0],zero=False)\n",
    "plot_pacf(df['value'],lags=60, ax=ax[1],zero=False)\n",
    "plt.show()"
   ]
  },
  {
   "cell_type": "markdown",
   "metadata": {},
   "source": [
    "# ARIMA MODEL - Manual "
   ]
  },
  {
   "cell_type": "markdown",
   "metadata": {},
   "source": [
    "from statsmodels.tsa.arima_model import ARIMA\n",
    "import pmdarima as pm\n",
    "model = ARIMA(df.value,\n",
    "                      start_p=0,max_p=3, # Pacf(p) = 0,1,2,3\n",
    "                      d=0,max_d=2,       # Difference (d) = 0,1,2\n",
    "                      start_q=0,max_q=3, # acf (q) = 0,1,2,3\n",
    "                      m=12,              # frequency of series\n",
    "                      seasonal=False,    # No Seasonality  then below P,D,Q will not be used \n",
    "                      start_P=0,max_P=2,\n",
    "                      D=0,max_D=1,\n",
    "                      start_Q=0,max_Q=2,\n",
    "                      test='adf',       # use adftest to find optimal 'd'\n",
    "                      trace=True)"
   ]
  },
  {
   "cell_type": "markdown",
   "metadata": {},
   "source": [
    "# ARIMA MODEL -- Auto ( Grid Search )"
   ]
  },
  {
   "cell_type": "code",
   "execution_count": 16,
   "metadata": {},
   "outputs": [
    {
     "name": "stdout",
     "output_type": "stream",
     "text": [
      "Requirement already satisfied: pmdarima in c:\\users\\l\\anaconda3\\lib\\site-packages (2.0.2)\n",
      "Requirement already satisfied: scipy>=1.3.2 in c:\\users\\l\\anaconda3\\lib\\site-packages (from pmdarima) (1.7.3)\n",
      "Requirement already satisfied: urllib3 in c:\\users\\l\\anaconda3\\lib\\site-packages (from pmdarima) (1.26.9)\n",
      "Requirement already satisfied: numpy>=1.21.2 in c:\\users\\l\\anaconda3\\lib\\site-packages (from pmdarima) (1.21.5)\n",
      "Requirement already satisfied: scikit-learn>=0.22 in c:\\users\\l\\anaconda3\\lib\\site-packages (from pmdarima) (1.0.2)\n",
      "Requirement already satisfied: pandas>=0.19 in c:\\users\\l\\anaconda3\\lib\\site-packages (from pmdarima) (1.4.2)\n",
      "Requirement already satisfied: joblib>=0.11 in c:\\users\\l\\anaconda3\\lib\\site-packages (from pmdarima) (1.1.0)\n",
      "Requirement already satisfied: statsmodels>=0.13.2 in c:\\users\\l\\anaconda3\\lib\\site-packages (from pmdarima) (0.13.2)\n",
      "Requirement already satisfied: Cython!=0.29.18,!=0.29.31,>=0.29 in c:\\users\\l\\anaconda3\\lib\\site-packages (from pmdarima) (0.29.28)\n",
      "Requirement already satisfied: setuptools!=50.0.0,>=38.6.0 in c:\\users\\l\\anaconda3\\lib\\site-packages (from pmdarima) (61.2.0)\n",
      "Requirement already satisfied: python-dateutil>=2.8.1 in c:\\users\\l\\anaconda3\\lib\\site-packages (from pandas>=0.19->pmdarima) (2.8.2)\n",
      "Requirement already satisfied: pytz>=2020.1 in c:\\users\\l\\anaconda3\\lib\\site-packages (from pandas>=0.19->pmdarima) (2021.3)\n",
      "Requirement already satisfied: six>=1.5 in c:\\users\\l\\anaconda3\\lib\\site-packages (from python-dateutil>=2.8.1->pandas>=0.19->pmdarima) (1.16.0)\n",
      "Requirement already satisfied: threadpoolctl>=2.0.0 in c:\\users\\l\\anaconda3\\lib\\site-packages (from scikit-learn>=0.22->pmdarima) (2.2.0)\n",
      "Requirement already satisfied: patsy>=0.5.2 in c:\\users\\l\\anaconda3\\lib\\site-packages (from statsmodels>=0.13.2->pmdarima) (0.5.2)\n",
      "Requirement already satisfied: packaging>=21.3 in c:\\users\\l\\anaconda3\\lib\\site-packages (from statsmodels>=0.13.2->pmdarima) (21.3)\n",
      "Requirement already satisfied: pyparsing!=3.0.5,>=2.0.2 in c:\\users\\l\\anaconda3\\lib\\site-packages (from packaging>=21.3->statsmodels>=0.13.2->pmdarima) (3.0.4)\n",
      "Note: you may need to restart the kernel to use updated packages.\n"
     ]
    }
   ],
   "source": [
    "pip install pmdarima"
   ]
  },
  {
   "cell_type": "code",
   "execution_count": 17,
   "metadata": {},
   "outputs": [
    {
     "name": "stdout",
     "output_type": "stream",
     "text": [
      "Performing stepwise search to minimize aic\n",
      " ARIMA(0,0,0)(0,0,0)[0]             : AIC=2057.847, Time=0.09 sec\n",
      " ARIMA(1,0,0)(0,0,0)[0]             : AIC=inf, Time=0.16 sec\n",
      " ARIMA(0,0,1)(0,0,0)[0]             : AIC=inf, Time=0.16 sec\n",
      " ARIMA(1,0,1)(0,0,0)[0]             : AIC=1412.973, Time=0.22 sec\n",
      " ARIMA(2,0,1)(0,0,0)[0]             : AIC=1410.569, Time=0.35 sec\n",
      " ARIMA(2,0,0)(0,0,0)[0]             : AIC=1417.450, Time=0.20 sec\n",
      " ARIMA(3,0,1)(0,0,0)[0]             : AIC=1411.319, Time=0.60 sec\n",
      " ARIMA(2,0,2)(0,0,0)[0]             : AIC=1411.135, Time=0.29 sec\n",
      " ARIMA(1,0,2)(0,0,0)[0]             : AIC=1413.093, Time=0.26 sec\n",
      " ARIMA(3,0,0)(0,0,0)[0]             : AIC=inf, Time=0.54 sec\n",
      " ARIMA(3,0,2)(0,0,0)[0]             : AIC=inf, Time=0.75 sec\n",
      " ARIMA(2,0,1)(0,0,0)[0] intercept   : AIC=1408.249, Time=0.41 sec\n",
      " ARIMA(1,0,1)(0,0,0)[0] intercept   : AIC=1409.748, Time=0.24 sec\n",
      " ARIMA(2,0,0)(0,0,0)[0] intercept   : AIC=1413.639, Time=0.29 sec\n",
      " ARIMA(3,0,1)(0,0,0)[0] intercept   : AIC=1408.287, Time=0.57 sec\n",
      " ARIMA(2,0,2)(0,0,0)[0] intercept   : AIC=1408.344, Time=0.66 sec\n",
      " ARIMA(1,0,0)(0,0,0)[0] intercept   : AIC=1428.179, Time=0.16 sec\n",
      " ARIMA(1,0,2)(0,0,0)[0] intercept   : AIC=1411.050, Time=0.40 sec\n",
      " ARIMA(3,0,0)(0,0,0)[0] intercept   : AIC=1410.342, Time=0.38 sec\n",
      " ARIMA(3,0,2)(0,0,0)[0] intercept   : AIC=inf, Time=0.73 sec\n",
      "\n",
      "Best model:  ARIMA(2,0,1)(0,0,0)[0] intercept\n",
      "Total fit time: 7.466 seconds\n"
     ]
    }
   ],
   "source": [
    "from statsmodels.tsa.arima_model import ARIMA\n",
    "import pmdarima as pm\n",
    "model = pm.auto_arima(df.value,\n",
    "                      start_p=0,max_p=3, # Pacf(p) = 0,1,2,3\n",
    "                      d=0,max_d=2,       # Difference (d) = 0,1,2\n",
    "                      start_q=0,max_q=3, # acf (q) = 0,1,2,3\n",
    "                      m=12,              # frequency of series\n",
    "                      seasonal=False,    # No Seasonality  then below P,D,Q will not be used \n",
    "                      start_P=0,max_P=0,\n",
    "                      D=0,max_D=0,\n",
    "                      start_Q=0,max_Q=0,\n",
    "                      test='adf',       # use adftest to find optimal 'd'\n",
    "                      trace=True)"
   ]
  },
  {
   "cell_type": "markdown",
   "metadata": {},
   "source": [
    "# Fitted Value"
   ]
  },
  {
   "cell_type": "code",
   "execution_count": 18,
   "metadata": {},
   "outputs": [
    {
     "data": {
      "text/html": [
       "<div>\n",
       "<style scoped>\n",
       "    .dataframe tbody tr th:only-of-type {\n",
       "        vertical-align: middle;\n",
       "    }\n",
       "\n",
       "    .dataframe tbody tr th {\n",
       "        vertical-align: top;\n",
       "    }\n",
       "\n",
       "    .dataframe thead th {\n",
       "        text-align: right;\n",
       "    }\n",
       "</style>\n",
       "<table border=\"1\" class=\"dataframe\">\n",
       "  <thead>\n",
       "    <tr style=\"text-align: right;\">\n",
       "      <th></th>\n",
       "      <th>date</th>\n",
       "      <th>value</th>\n",
       "      <th>Forecast</th>\n",
       "    </tr>\n",
       "  </thead>\n",
       "  <tbody>\n",
       "    <tr>\n",
       "      <th>0</th>\n",
       "      <td>1949-01-01</td>\n",
       "      <td>112</td>\n",
       "      <td>281.730353</td>\n",
       "    </tr>\n",
       "    <tr>\n",
       "      <th>1</th>\n",
       "      <td>1949-02-01</td>\n",
       "      <td>118</td>\n",
       "      <td>117.998852</td>\n",
       "    </tr>\n",
       "    <tr>\n",
       "      <th>2</th>\n",
       "      <td>1949-03-01</td>\n",
       "      <td>132</td>\n",
       "      <td>126.803565</td>\n",
       "    </tr>\n",
       "    <tr>\n",
       "      <th>3</th>\n",
       "      <td>1949-04-01</td>\n",
       "      <td>129</td>\n",
       "      <td>140.339696</td>\n",
       "    </tr>\n",
       "    <tr>\n",
       "      <th>4</th>\n",
       "      <td>1949-05-01</td>\n",
       "      <td>121</td>\n",
       "      <td>131.931478</td>\n",
       "    </tr>\n",
       "    <tr>\n",
       "      <th>...</th>\n",
       "      <td>...</td>\n",
       "      <td>...</td>\n",
       "      <td>...</td>\n",
       "    </tr>\n",
       "    <tr>\n",
       "      <th>139</th>\n",
       "      <td>1960-08-01</td>\n",
       "      <td>606</td>\n",
       "      <td>617.984567</td>\n",
       "    </tr>\n",
       "    <tr>\n",
       "      <th>140</th>\n",
       "      <td>1960-09-01</td>\n",
       "      <td>508</td>\n",
       "      <td>580.077431</td>\n",
       "    </tr>\n",
       "    <tr>\n",
       "      <th>141</th>\n",
       "      <td>1960-10-01</td>\n",
       "      <td>461</td>\n",
       "      <td>472.801167</td>\n",
       "    </tr>\n",
       "    <tr>\n",
       "      <th>142</th>\n",
       "      <td>1960-11-01</td>\n",
       "      <td>390</td>\n",
       "      <td>458.695873</td>\n",
       "    </tr>\n",
       "    <tr>\n",
       "      <th>143</th>\n",
       "      <td>1960-12-01</td>\n",
       "      <td>432</td>\n",
       "      <td>354.259251</td>\n",
       "    </tr>\n",
       "  </tbody>\n",
       "</table>\n",
       "<p>144 rows × 3 columns</p>\n",
       "</div>"
      ],
      "text/plain": [
       "           date  value    Forecast\n",
       "0    1949-01-01    112  281.730353\n",
       "1    1949-02-01    118  117.998852\n",
       "2    1949-03-01    132  126.803565\n",
       "3    1949-04-01    129  140.339696\n",
       "4    1949-05-01    121  131.931478\n",
       "..          ...    ...         ...\n",
       "139  1960-08-01    606  617.984567\n",
       "140  1960-09-01    508  580.077431\n",
       "141  1960-10-01    461  472.801167\n",
       "142  1960-11-01    390  458.695873\n",
       "143  1960-12-01    432  354.259251\n",
       "\n",
       "[144 rows x 3 columns]"
      ]
     },
     "execution_count": 18,
     "metadata": {},
     "output_type": "execute_result"
    }
   ],
   "source": [
    "df['Forecast']=model.predict_in_sample()\n",
    "df.iloc[:,[0,1,4]]"
   ]
  },
  {
   "cell_type": "markdown",
   "metadata": {},
   "source": [
    "# Model plot"
   ]
  },
  {
   "cell_type": "code",
   "execution_count": 19,
   "metadata": {},
   "outputs": [
    {
     "data": {
      "image/png": "[encoded data removed]",
      "text/plain": [
       "<Figure size 432x288 with 1 Axes>"
      ]
     },
     "metadata": {
      "needs_background": "light"
     },
     "output_type": "display_data"
    }
   ],
   "source": [
    "# Plot\n",
    "plt.plot(df.value)\n",
    "plt.plot(df.Forecast, color='darkgreen')\n",
    "plt.title(\"Actual vs Forecast fitted value\")\n",
    "plt.show()"
   ]
  },
  {
   "cell_type": "markdown",
   "metadata": {},
   "source": [
    "# Accuracy metrics\n"
   ]
  },
  {
   "cell_type": "code",
   "execution_count": 20,
   "metadata": {},
   "outputs": [
    {
     "data": {
      "text/plain": [
       "{'mape': 9.555653878811533}"
      ]
     },
     "execution_count": 20,
     "metadata": {},
     "output_type": "execute_result"
    }
   ],
   "source": [
    "def forecast_accuracy(actual,forecast):\n",
    "    mape = (np.mean(np.abs(actual-forecast)/np.abs(actual)))*100  # MAPE\n",
    "    return({'mape':mape})\n",
    "\n",
    "forecast_accuracy(df.value,df.Forecast)"
   ]
  },
  {
   "cell_type": "markdown",
   "metadata": {},
   "source": [
    "#  Forecast - Future Month\n"
   ]
  },
  {
   "cell_type": "code",
   "execution_count": 21,
   "metadata": {},
   "outputs": [
    {
     "data": {
      "image/png": "[encoded data removed]",
      "text/plain": [
       "<Figure size 432x288 with 1 Axes>"
      ]
     },
     "metadata": {
      "needs_background": "light"
     },
     "output_type": "display_data"
    }
   ],
   "source": [
    "n_periods=36\n",
    "fc = model.predict(n_periods=n_periods)\n",
    "index_of_fc = np.arange(len(df.value), len(df.value)+n_periods)\n",
    "\n",
    "# make series for plotting purpose\n",
    "fc_series = pd.Series(fc, index=index_of_fc)\n",
    "\n",
    "# Plot\n",
    "plt.plot(df.value)\n",
    "plt.plot(fc_series, color='darkgreen')\n",
    "plt.title(\"Final Forecast of WWW Usage\")\n",
    "plt.show()"
   ]
  },
  {
   "cell_type": "markdown",
   "metadata": {},
   "source": [
    "# SARIMAX -- Auto ( Grid Search )"
   ]
  },
  {
   "cell_type": "code",
   "execution_count": 22,
   "metadata": {},
   "outputs": [
    {
     "name": "stdout",
     "output_type": "stream",
     "text": [
      "Performing stepwise search to minimize aic\n",
      " ARIMA(0,0,0)(0,0,0)[12] intercept   : AIC=1790.368, Time=0.05 sec\n",
      " ARIMA(1,0,0)(1,0,0)[12] intercept   : AIC=inf, Time=0.73 sec\n",
      " ARIMA(0,0,1)(0,0,1)[12] intercept   : AIC=inf, Time=0.50 sec\n",
      " ARIMA(0,0,0)(0,0,0)[12]             : AIC=2057.847, Time=0.03 sec\n",
      " ARIMA(0,0,0)(1,0,0)[12] intercept   : AIC=inf, Time=0.87 sec\n",
      " ARIMA(0,0,0)(0,0,1)[12] intercept   : AIC=inf, Time=0.39 sec\n",
      " ARIMA(0,0,0)(1,0,1)[12] intercept   : AIC=inf, Time=0.97 sec\n",
      " ARIMA(1,0,0)(0,0,0)[12] intercept   : AIC=1428.179, Time=0.09 sec\n",
      " ARIMA(1,0,0)(0,0,1)[12] intercept   : AIC=1315.686, Time=0.60 sec\n",
      " ARIMA(1,0,0)(1,0,1)[12] intercept   : AIC=1162.951, Time=0.82 sec\n",
      " ARIMA(1,0,0)(2,0,1)[12] intercept   : AIC=inf, Time=1.19 sec\n",
      " ARIMA(1,0,0)(1,0,2)[12] intercept   : AIC=1163.868, Time=1.66 sec\n",
      " ARIMA(1,0,0)(0,0,2)[12] intercept   : AIC=inf, Time=1.23 sec\n",
      " ARIMA(1,0,0)(2,0,0)[12] intercept   : AIC=inf, Time=1.24 sec\n",
      " ARIMA(1,0,0)(2,0,2)[12] intercept   : AIC=inf, Time=1.83 sec\n",
      " ARIMA(2,0,0)(1,0,1)[12] intercept   : AIC=1158.173, Time=1.07 sec\n",
      " ARIMA(2,0,0)(0,0,1)[12] intercept   : AIC=1309.040, Time=0.56 sec\n",
      " ARIMA(2,0,0)(1,0,0)[12] intercept   : AIC=inf, Time=0.89 sec\n",
      " ARIMA(2,0,0)(2,0,1)[12] intercept   : AIC=inf, Time=2.30 sec\n",
      " ARIMA(2,0,0)(1,0,2)[12] intercept   : AIC=1156.918, Time=2.42 sec\n",
      " ARIMA(2,0,0)(0,0,2)[12] intercept   : AIC=inf, Time=1.72 sec\n",
      " ARIMA(2,0,0)(2,0,2)[12] intercept   : AIC=inf, Time=2.72 sec\n",
      " ARIMA(3,0,0)(1,0,2)[12] intercept   : AIC=1158.807, Time=2.72 sec\n",
      " ARIMA(2,0,1)(1,0,2)[12] intercept   : AIC=inf, Time=2.75 sec\n",
      " ARIMA(1,0,1)(1,0,2)[12] intercept   : AIC=1157.745, Time=2.62 sec\n",
      " ARIMA(3,0,1)(1,0,2)[12] intercept   : AIC=inf, Time=3.02 sec\n",
      " ARIMA(2,0,0)(1,0,2)[12]             : AIC=1156.654, Time=2.08 sec\n",
      " ARIMA(2,0,0)(0,0,2)[12]             : AIC=inf, Time=1.71 sec\n",
      " ARIMA(2,0,0)(1,0,1)[12]             : AIC=1157.635, Time=0.46 sec\n",
      " ARIMA(2,0,0)(2,0,2)[12]             : AIC=inf, Time=nan sec\n",
      " ARIMA(2,0,0)(0,0,1)[12]             : AIC=1313.323, Time=0.45 sec\n",
      " ARIMA(2,0,0)(2,0,1)[12]             : AIC=inf, Time=2.26 sec\n",
      " ARIMA(1,0,0)(1,0,2)[12]             : AIC=1164.278, Time=2.27 sec\n",
      " ARIMA(3,0,0)(1,0,2)[12]             : AIC=1169.901, Time=1.64 sec\n",
      " ARIMA(2,0,1)(1,0,2)[12]             : AIC=1165.175, Time=2.33 sec\n",
      " ARIMA(1,0,1)(1,0,2)[12]             : AIC=1157.377, Time=2.19 sec\n",
      " ARIMA(3,0,1)(1,0,2)[12]             : AIC=inf, Time=3.06 sec\n",
      "\n",
      "Best model:  ARIMA(2,0,0)(1,0,2)[12]          \n",
      "Total fit time: 56.689 seconds\n"
     ]
    }
   ],
   "source": [
    "from statsmodels.tsa.arima_model import ARIMA\n",
    "import pmdarima as pm\n",
    "smodel = pm.auto_arima(df.value,\n",
    "                      start_p=0,max_p=3, # Pacf(p) = 0,1,2,3\n",
    "                      d=0,max_d=2,       # Difference (d) = 0,1,2\n",
    "                      start_q=0,max_q=3, # acf (q) = 0,1,2,3\n",
    "                      m=12,              # frequency of series or time\n",
    "                      seasonal=True,     # Seasonality is True then below P,D,Q will be used \n",
    "                      start_P=0,max_P=2,\n",
    "                      D=0,max_D=1,\n",
    "                      start_Q=0,max_Q=2,\n",
    "                      test='adf',       # use adftest to find optimal 'd'\n",
    "                      trace=True)"
   ]
  },
  {
   "cell_type": "markdown",
   "metadata": {},
   "source": [
    "# Fitted Value"
   ]
  },
  {
   "cell_type": "code",
   "execution_count": 23,
   "metadata": {},
   "outputs": [
    {
     "data": {
      "text/html": [
       "<div>\n",
       "<style scoped>\n",
       "    .dataframe tbody tr th:only-of-type {\n",
       "        vertical-align: middle;\n",
       "    }\n",
       "\n",
       "    .dataframe tbody tr th {\n",
       "        vertical-align: top;\n",
       "    }\n",
       "\n",
       "    .dataframe thead th {\n",
       "        text-align: right;\n",
       "    }\n",
       "</style>\n",
       "<table border=\"1\" class=\"dataframe\">\n",
       "  <thead>\n",
       "    <tr style=\"text-align: right;\">\n",
       "      <th></th>\n",
       "      <th>date</th>\n",
       "      <th>value</th>\n",
       "      <th>S_Forecast</th>\n",
       "    </tr>\n",
       "  </thead>\n",
       "  <tbody>\n",
       "    <tr>\n",
       "      <th>0</th>\n",
       "      <td>1949-01-01</td>\n",
       "      <td>112</td>\n",
       "      <td>0.000000</td>\n",
       "    </tr>\n",
       "    <tr>\n",
       "      <th>1</th>\n",
       "      <td>1949-02-01</td>\n",
       "      <td>118</td>\n",
       "      <td>110.919223</td>\n",
       "    </tr>\n",
       "    <tr>\n",
       "      <th>2</th>\n",
       "      <td>1949-03-01</td>\n",
       "      <td>132</td>\n",
       "      <td>115.239247</td>\n",
       "    </tr>\n",
       "    <tr>\n",
       "      <th>3</th>\n",
       "      <td>1949-04-01</td>\n",
       "      <td>129</td>\n",
       "      <td>125.644904</td>\n",
       "    </tr>\n",
       "    <tr>\n",
       "      <th>4</th>\n",
       "      <td>1949-05-01</td>\n",
       "      <td>121</td>\n",
       "      <td>127.211975</td>\n",
       "    </tr>\n",
       "    <tr>\n",
       "      <th>...</th>\n",
       "      <td>...</td>\n",
       "      <td>...</td>\n",
       "      <td>...</td>\n",
       "    </tr>\n",
       "    <tr>\n",
       "      <th>139</th>\n",
       "      <td>1960-08-01</td>\n",
       "      <td>606</td>\n",
       "      <td>627.696619</td>\n",
       "    </tr>\n",
       "    <tr>\n",
       "      <th>140</th>\n",
       "      <td>1960-09-01</td>\n",
       "      <td>508</td>\n",
       "      <td>512.363037</td>\n",
       "    </tr>\n",
       "    <tr>\n",
       "      <th>141</th>\n",
       "      <td>1960-10-01</td>\n",
       "      <td>461</td>\n",
       "      <td>454.240451</td>\n",
       "    </tr>\n",
       "    <tr>\n",
       "      <th>142</th>\n",
       "      <td>1960-11-01</td>\n",
       "      <td>390</td>\n",
       "      <td>412.201547</td>\n",
       "    </tr>\n",
       "    <tr>\n",
       "      <th>143</th>\n",
       "      <td>1960-12-01</td>\n",
       "      <td>432</td>\n",
       "      <td>434.462240</td>\n",
       "    </tr>\n",
       "  </tbody>\n",
       "</table>\n",
       "<p>144 rows × 3 columns</p>\n",
       "</div>"
      ],
      "text/plain": [
       "           date  value  S_Forecast\n",
       "0    1949-01-01    112    0.000000\n",
       "1    1949-02-01    118  110.919223\n",
       "2    1949-03-01    132  115.239247\n",
       "3    1949-04-01    129  125.644904\n",
       "4    1949-05-01    121  127.211975\n",
       "..          ...    ...         ...\n",
       "139  1960-08-01    606  627.696619\n",
       "140  1960-09-01    508  512.363037\n",
       "141  1960-10-01    461  454.240451\n",
       "142  1960-11-01    390  412.201547\n",
       "143  1960-12-01    432  434.462240\n",
       "\n",
       "[144 rows x 3 columns]"
      ]
     },
     "execution_count": 23,
     "metadata": {},
     "output_type": "execute_result"
    }
   ],
   "source": [
    "df['S_Forecast']=smodel.predict_in_sample()\n",
    "df.iloc[:,[0,1,5]]"
   ]
  },
  {
   "cell_type": "markdown",
   "metadata": {},
   "source": [
    "# Model plot"
   ]
  },
  {
   "cell_type": "code",
   "execution_count": 24,
   "metadata": {},
   "outputs": [
    {
     "data": {
      "image/png": "[encoded data removed]",
      "text/plain": [
       "<Figure size 432x288 with 1 Axes>"
      ]
     },
     "metadata": {
      "needs_background": "light"
     },
     "output_type": "display_data"
    }
   ],
   "source": [
    "# Plot\n",
    "plt.plot(df.value)\n",
    "plt.plot(df.S_Forecast, color='darkgreen')\n",
    "plt.title(\"Actual vs Forecast fitted value\")\n",
    "plt.show()"
   ]
  },
  {
   "cell_type": "markdown",
   "metadata": {},
   "source": [
    "# Accuracy metrics\n"
   ]
  },
  {
   "cell_type": "code",
   "execution_count": 25,
   "metadata": {},
   "outputs": [
    {
     "data": {
      "text/plain": [
       "{'mape': 4.227748056315173}"
      ]
     },
     "execution_count": 25,
     "metadata": {},
     "output_type": "execute_result"
    }
   ],
   "source": [
    "def forecast_accuracy(actual,forecast):\n",
    "    mape = (np.mean(np.abs(actual-forecast)/np.abs(actual)))*100  # MAPE\n",
    "    return({'mape':mape})\n",
    "\n",
    "forecast_accuracy(df.value,df.S_Forecast)"
   ]
  },
  {
   "cell_type": "markdown",
   "metadata": {},
   "source": [
    "#  Forecast\n"
   ]
  },
  {
   "cell_type": "code",
   "execution_count": 26,
   "metadata": {},
   "outputs": [
    {
     "data": {
      "image/png": "[encoded data removed]",
      "text/plain": [
       "<Figure size 432x288 with 1 Axes>"
      ]
     },
     "metadata": {
      "needs_background": "light"
     },
     "output_type": "display_data"
    }
   ],
   "source": [
    "n_periods=36\n",
    "fc = smodel.predict(n_periods=n_periods)\n",
    "index_of_fc = np.arange(len(df.value), len(df.value)+n_periods)\n",
    "\n",
    "# make series for plotting purpose\n",
    "fc_series = pd.Series(fc, index=index_of_fc)\n",
    "\n",
    "# Plot\n",
    "plt.plot(df.value)\n",
    "plt.plot(fc_series, color='darkgreen')\n",
    "plt.title(\"Forecast Next 36 Month\")\n",
    "plt.show()"
   ]
  },
  {
   "cell_type": "markdown",
   "metadata": {},
   "source": [
    "# Finished"
   ]
  },
  {
   "cell_type": "code",
   "execution_count": null,
   "metadata": {},
   "outputs": [],
   "source": []
  },
  {
   "cell_type": "code",
   "execution_count": null,
   "metadata": {},
   "outputs": [],
   "source": []
  },
  {
   "cell_type": "code",
   "execution_count": null,
   "metadata": {},
   "outputs": [],
   "source": []
  },
  {
   "cell_type": "code",
   "execution_count": null,
   "metadata": {},
   "outputs": [],
   "source": []
  }
 ],
 "metadata": {
  "kernelspec": {
   "display_name": "Python 3 (ipykernel)",
   "language": "python",
   "name": "python3"
  },
  "language_info": {
   "codemirror_mode": {
    "name": "ipython",
    "version": 3
   },
   "file_extension": ".py",
   "mimetype": "text/x-python",
   "name": "python",
   "nbconvert_exporter": "python",
   "pygments_lexer": "ipython3",
   "version": "3.9.12"
  }
 },
 "nbformat": 4,
 "nbformat_minor": 4
}
